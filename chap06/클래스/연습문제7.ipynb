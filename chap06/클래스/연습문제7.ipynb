{
 "cells": [
  {
   "cell_type": "markdown",
   "id": "05935bdd",
   "metadata": {},
   "source": [
    "## 클래스_연습문제 7\n",
    "\n",
    "문제:  다음Person 클래스를상속받는Employee 클래스를정의하라.\n",
    "\n",
    "Employee 클래스에 employeeID 속성을추가하고getID() 메소드를정의하라. getID() 메소드는employeeID를 반환하는메소드이다.\n",
    "\n",
    "Employee 클래스를이용하여Employee(\"동양\", 65, 2019)로생성된 객체의이름, 나이, ID\n",
    "를출력하라.\n",
    "\n",
    "날짜: 2025.9.29\n",
    "\n",
    "학과: 컴퓨터공학과\n",
    "\n",
    "학번: 202210558\n",
    "\n",
    "저자: 박로사"
   ]
  },
  {
   "cell_type": "code",
   "execution_count": 1,
   "id": "7413eaa5",
   "metadata": {},
   "outputs": [
    {
     "name": "stdout",
     "output_type": "stream",
     "text": [
      "동양\n",
      "65\n",
      "2019\n"
     ]
    }
   ],
   "source": [
    "class Person:\n",
    "    def __init__(self, name, age):\n",
    "        self.name = name\n",
    "        self.age = age\n",
    "\n",
    "    def getName(self):\n",
    "        print(self.name)\n",
    "\n",
    "    def getAge(self):\n",
    "        print(self.age)\n",
    "\n",
    "class Employee(Person):\n",
    "    def __init__(self, name, age, employeeID):\n",
    "        super().__init__(name, age)\n",
    "        self.employeeID = employeeID\n",
    "\n",
    "    def getID(self):\n",
    "        print(self.employeeID)\n",
    "\n",
    "# 테스트\n",
    "emp = Employee(\"동양\", 65, 2019)\n",
    "emp.getName()\n",
    "emp.getAge()\n",
    "emp.getID()"
   ]
  }
 ],
 "metadata": {
  "kernelspec": {
   "display_name": "Python 3",
   "language": "python",
   "name": "python3"
  },
  "language_info": {
   "codemirror_mode": {
    "name": "ipython",
    "version": 3
   },
   "file_extension": ".py",
   "mimetype": "text/x-python",
   "name": "python",
   "nbconvert_exporter": "python",
   "pygments_lexer": "ipython3",
   "version": "3.13.7"
  }
 },
 "nbformat": 4,
 "nbformat_minor": 5
}
