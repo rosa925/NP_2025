{
 "cells": [
  {
   "cell_type": "markdown",
   "id": "57135e3c",
   "metadata": {},
   "source": [
    "## 7장 노트정리\n",
    "\n",
    "이 파일은 7장 학습하면서 실행한 내용을 정리한 것이다.\n",
    "\n",
    "날짜: 2025.9.30\n",
    "\n",
    "학과: 컴퓨터공학과\n",
    "\n",
    "학번: 202210558\n",
    "\n",
    "저자: 박로사"
   ]
  },
  {
   "cell_type": "markdown",
   "id": "b0abf64a",
   "metadata": {},
   "source": [
    "### 모듈\n",
    "함수, 변수, 클래스들을 모아놓은파일묶음(라이브러리)"
   ]
  },
  {
   "cell_type": "markdown",
   "id": "940160b2",
   "metadata": {},
   "source": [
    "#### 모듈 불러오기\n",
    "• 프로그램 외부에 존재하는 모듈을 프로그램 내부로 불러와서 사용하기위해 필요한 명령(import)"
   ]
  },
  {
   "cell_type": "markdown",
   "id": "db297a5d",
   "metadata": {},
   "source": [
    "① import module_name\n",
    "\n",
    "• >>> import socket\n",
    "\n",
    "• dir(socket) \n",
    "\n",
    "• socket 모듈에 포함된 변수, 함수, 클래스를 사용할 수 있다 <- socket 모듈에 들어 있는변수, 함수, 클래스를 보여줌\n",
    "\n",
    "• dir(socket.socket) <- socket 모듈의 socket 클래스에 포함된 변수, 메소드를 보여 줌"
   ]
  },
  {
   "cell_type": "code",
   "execution_count": null,
   "id": "6f81ad74",
   "metadata": {},
   "outputs": [],
   "source": [
    ">>> import socket\n",
    ">>> socket.gethostname()\n",
    "'Home'\n",
    ">>> dir(socket)\n",
    "['AF_APPLETALK', 'AF_BLUETOOTH', 'AF_DECnet', 'AF_HYPERV', 'AF_INET', 'AF_INET6', 'AF_IPX', 'AF_IRDA', 'AF_LINK', 'AF_SNA', 'AF_UNSPEC', 'AI_ADDRCONFIG', 'AI_ALL', 'AI_CANONNAME', 'AI_NUMERICHOST', 'AI_NUMERICSERV', 'AI_PASSIVE', 'AI_V4MAPPED', 'AddressFamily', 'AddressInfo', 'BDADDR_ANY', 'BDADDR_LOCAL', 'BTPROTO_RFCOMM', 'CAPI', 'EAGAIN', 'EAI_AGAIN', 'EAI_BADFLAGS', 'EAI_FAIL', 'EAI_FAMILY', 'EAI_MEMORY', 'EAI_NODATA', 'EAI_NONAME', 'EAI_SERVICE', 'EAI_SOCKTYPE', 'EBADF', 'EWOULDBLOCK', 'HVSOCKET_ADDRESS_FLAG_PASSTHRU', 'HVSOCKET_CONNECTED_SUSPEND', 'HVSOCKET_CONNECT_TIMEOUT', 'HVSOCKET_CONNECT_TIMEOUT_MAX', 'HV_GUID_BROADCAST', 'HV_GUID_CHILDREN', 'HV_GUID_LOOPBACK', 'HV_GUID_PARENT', 'HV_GUID_WILDCARD', 'HV_GUID_ZERO', 'HV_PROTOCOL_RAW', 'INADDR_ALLHOSTS_GROUP', 'INADDR_ANY', 'INADDR_BROADCAST', 'INADDR_LOOPBACK', 'INADDR_MAX_LOCAL_GROUP', 'INADDR_NONE', 'INADDR_UNSPEC_GROUP', 'IPPORT_RESERVED', 'IPPORT_USERRESERVED', 'IPPROTO_AH', 'IPPROTO_CBT', 'IPPROTO_DSTOPTS', 'IPPROTO_EGP', 'IPPROTO_ESP', 'IPPROTO_FRAGMENT', 'IPPROTO_GGP', 'IPPROTO_HOPOPTS', 'IPPROTO_ICLFXBM', 'IPPROTO_ICMP', 'IPPROTO_ICMPV6', 'IPPROTO_IDP', 'IPPROTO_IGMP', 'IPPROTO_IGP', 'IPPROTO_IP', 'IPPROTO_IPV4', 'IPPROTO_IPV6', 'IPPROTO_L2TP', 'IPPROTO_MAX', 'IPPROTO_ND', 'IPPROTO_NONE', 'IPPROTO_PGM', 'IPPROTO_PIM', 'IPPROTO_PUP', 'IPPROTO_RAW', 'IPPROTO_RDP', 'IPPROTO_ROUTING', 'IPPROTO_SCTP', 'IPPROTO_ST', 'IPPROTO_TCP', 'IPPROTO_UDP', 'IPV6_CHECKSUM', 'IPV6_DONTFRAG', 'IPV6_HOPLIMIT', 'IPV6_HOPOPTS', 'IPV6_JOIN_GROUP', 'IPV6_LEAVE_GROUP', 'IPV6_MULTICAST_HOPS', 'IPV6_MULTICAST_IF', 'IPV6_MULTICAST_LOOP', 'IPV6_PKTINFO', 'IPV6_RECVRTHDR', 'IPV6_RECVTCLASS', 'IPV6_RTHDR', 'IPV6_TCLASS', 'IPV6_UNICAST_HOPS', 'IPV6_V6ONLY', 'IP_ADD_MEMBERSHIP', 'IP_ADD_SOURCE_MEMBERSHIP', 'IP_BLOCK_SOURCE', 'IP_DROP_MEMBERSHIP', 'IP_DROP_SOURCE_MEMBERSHIP', 'IP_HDRINCL', 'IP_MULTICAST_IF', 'IP_MULTICAST_LOOP', 'IP_MULTICAST_TTL', 'IP_OPTIONS', 'IP_PKTINFO', 'IP_RECVDSTADDR', 'IP_RECVTOS', 'IP_TOS', 'IP_TTL', 'IP_UNBLOCK_SOURCE', 'IntEnum', 'IntFlag', 'MSG_BCAST', 'MSG_CTRUNC', 'MSG_DONTROUTE', 'MSG_ERRQUEUE', 'MSG_MCAST', 'MSG_OOB', 'MSG_PEEK', 'MSG_TRUNC', 'MSG_WAITALL', 'MsgFlag', 'NI_DGRAM', 'NI_MAXHOST', 'NI_MAXSERV', 'NI_NAMEREQD', 'NI_NOFQDN', 'NI_NUMERICHOST', 'NI_NUMERICSERV', 'RCVALL_MAX', 'RCVALL_OFF', 'RCVALL_ON', 'RCVALL_SOCKETLEVELONLY', 'SHUT_RD', 'SHUT_RDWR', 'SHUT_WR', 'SIO_KEEPALIVE_VALS', 'SIO_LOOPBACK_FAST_PATH', 'SIO_RCVALL', 'SOCK_DGRAM', 'SOCK_RAW', 'SOCK_RDM', 'SOCK_SEQPACKET', 'SOCK_STREAM', 'SOL_IP', 'SOL_SOCKET', 'SOL_TCP', 'SOL_UDP', 'SOMAXCONN', 'SO_ACCEPTCONN', 'SO_BROADCAST', 'SO_DEBUG', 'SO_DONTROUTE', 'SO_ERROR', 'SO_EXCLUSIVEADDRUSE', 'SO_KEEPALIVE', 'SO_LINGER', 'SO_OOBINLINE', 'SO_RCVBUF', 'SO_RCVLOWAT', 'SO_RCVTIMEO', 'SO_REUSEADDR', 'SO_SNDBUF', 'SO_SNDLOWAT', 'SO_SNDTIMEO', 'SO_TYPE', 'SO_USELOOPBACK', 'SocketIO', 'SocketKind', 'SocketType', 'TCP_FASTOPEN', 'TCP_KEEPCNT', 'TCP_KEEPIDLE', 'TCP_KEEPINTVL', 'TCP_MAXSEG', 'TCP_NODELAY', '_GLOBAL_DEFAULT_TIMEOUT', '_GiveupOnSendfile', '_LOCALHOST', '_LOCALHOST_V6', '__all__', '__builtins__', '__cached__', '__doc__', '__file__', '__loader__', '__name__', '__package__', '__spec__', '_blocking_errnos', '_fallback_socketpair', '_intenum_converter', '_socket', 'close', 'create_connection', 'create_server', 'dup', 'errno', 'error', 'errorTab', 'fromfd', 'fromshare', 'gaierror', 'getaddrinfo', 'getdefaulttimeout', 'getfqdn', 'gethostbyaddr', 'gethostbyname', 'gethostbyname_ex', 'gethostname', 'getnameinfo', 'getprotobyname', 'getservbyname', 'getservbyport', 'has_dualstack_ipv6', 'has_ipv6', 'herror', 'htonl', 'htons', 'if_indextoname', 'if_nameindex', 'if_nametoindex', 'inet_aton', 'inet_ntoa', 'inet_ntop', 'inet_pton', 'io', 'ntohl', 'ntohs', 'os', 'selectors', 'setdefaulttimeout', 'socket', 'socketpair', 'sys', 'timeout']\n",
    ">>> dir(socket.socket)\n",
    "['__class__', '__del__', '__delattr__', '__dir__', '__doc__', '__enter__', '__eq__', '__exit__', '__firstlineno__', '__format__', '__ge__', '__getattribute__', '__getstate__', '__gt__', '__hash__', '__init__', '__init_subclass__', '__le__', '__lt__', '__module__', '__ne__', '__new__', '__reduce__', '__reduce_ex__', '__repr__', '__setattr__', '__sizeof__', '__slots__', '__static_attributes__', '__str__', '__subclasshook__', '__weakref__', '_accept', '_check_sendfile_params', '_closed', '_decref_socketios', '_io_refs', '_real_close', '_sendfile_use_send', '_sendfile_use_sendfile', 'accept', 'bind', 'close', 'connect', 'connect_ex', 'detach', 'dup', 'family', 'fileno', 'get_inheritable', 'getblocking', 'getpeername', 'getsockname', 'getsockopt', 'gettimeout', 'ioctl', 'listen', 'makefile', 'proto', 'recv', 'recv_into', 'recvfrom', 'recvfrom_into', 'send', 'sendall', 'sendfile', 'sendto', 'set_inheritable', 'setblocking', 'setsockopt', 'settimeout', 'share', 'shutdown', 'timeout', 'type']"
   ]
  },
  {
   "cell_type": "markdown",
   "id": "9ded8322",
   "metadata": {},
   "source": [
    "② from module_name import class or methods\n",
    "\n",
    "• from socket import gethostname\n",
    "\n",
    "• import된 class 또는 methods 사용할 수 있다"
   ]
  },
  {
   "cell_type": "code",
   "execution_count": null,
   "id": "fa8b4989",
   "metadata": {},
   "outputs": [],
   "source": [
    ">>> from socket import gethostname\n",
    ">>> gethostname()\n",
    "'Home'"
   ]
  },
  {
   "cell_type": "markdown",
   "id": "9c66afe1",
   "metadata": {},
   "source": [
    "③ from module_name import *\n",
    "\n",
    "• from socket import *\n",
    "\n",
    "• socket 모듈의 모든 속성을 사용할 수 있다\n",
    "\n",
    "편리하지만메모리를많이차지하고다른함수와혼동가능성이있다!"
   ]
  },
  {
   "cell_type": "code",
   "execution_count": null,
   "id": "111e8285",
   "metadata": {},
   "outputs": [],
   "source": [
    ">>> from socket import *\n",
    ">>> gethostname()\n",
    "'Home'"
   ]
  },
  {
   "cell_type": "markdown",
   "id": "e23d78ad",
   "metadata": {},
   "source": [
    "④ import module_name as alias(단축이름)\n",
    "\n",
    " • 모듈이름이긴경우단축이름으로불러오기"
   ]
  },
  {
   "cell_type": "code",
   "execution_count": null,
   "id": "8aeda683",
   "metadata": {},
   "outputs": [],
   "source": [
    ">>> import socket as so\n",
    ">>> so.gethostname()\n",
    "'Home'"
   ]
  },
  {
   "cell_type": "markdown",
   "id": "59f03bfb",
   "metadata": {},
   "source": [
    "#### 모듈 탐색 경로\n",
    "• 불러오는모듈은현재디렉토리, sys.path(환경변수)에 지정된 디렉토리 순서로 찾는다"
   ]
  },
  {
   "cell_type": "code",
   "execution_count": null,
   "id": "bcaeb255",
   "metadata": {},
   "outputs": [],
   "source": [
    ">>> import os, sys\n",
    ">>> os.getcwd()\n",
    ">>> sys.path"
   ]
  },
  {
   "cell_type": "markdown",
   "id": "4a222f98",
   "metadata": {},
   "source": [
    "### 사용자 정의 모듈 만들기\n",
    "• 모듈은일반프로그램과같이작성된다"
   ]
  },
  {
   "cell_type": "code",
   "execution_count": null,
   "id": "123240dc",
   "metadata": {},
   "outputs": [],
   "source": [
    ">>> import myModule\n",
    ">>> hab = myModule.sum(10)\n",
    ">>> pwr = myModule.power(2,3)\n",
    ">>> print(hab, pwr)"
   ]
  },
  {
   "cell_type": "markdown",
   "id": "13a686e3",
   "metadata": {},
   "source": [
    "#### if __name__ == '__main__':의 기능\n",
    "• 모듈을독립된프로그램으로사용할때만실행됨\n",
    "\n",
    "• 모듈의기능을테스트하기위해사용됨"
   ]
  },
  {
   "cell_type": "markdown",
   "id": "ffd2c36a",
   "metadata": {},
   "source": [
    "#### sys 모듈\n",
    "•파이썬인터프리터에관한정보를알수있다"
   ]
  },
  {
   "cell_type": "markdown",
   "id": "e3088c3d",
   "metadata": {},
   "source": [
    "#### sys.argv 속성\n",
    "• 명령인수와함께프로그램을실행할때명령인수를전달받음"
   ]
  },
  {
   "cell_type": "markdown",
   "id": "35936798",
   "metadata": {},
   "source": [
    "#### random 모듈\n",
    "•난수(random number)를만들때사용"
   ]
  },
  {
   "cell_type": "markdown",
   "id": "60ca0fae",
   "metadata": {},
   "source": [
    "#### math 모듈\n",
    "•수학적계산을위한모듈"
   ]
  },
  {
   "cell_type": "markdown",
   "id": "4fe8030d",
   "metadata": {},
   "source": [
    "#### time 모듈\n",
    "•시간을문자열로표시하는모듈"
   ]
  },
  {
   "cell_type": "code",
   "execution_count": null,
   "id": "20235335",
   "metadata": {},
   "outputs": [],
   "source": [
    ">>> import time\n",
    ">>> time.time()\n",
    "1759661723.8177147\n",
    ">>> time.asctime()\n",
    "'Sun Oct  5 19:55:27 2025'"
   ]
  },
  {
   "cell_type": "markdown",
   "id": "d83572d9",
   "metadata": {},
   "source": [
    "#### calendar 모듈\n",
    "•달력을출력하는모듈"
   ]
  },
  {
   "cell_type": "code",
   "execution_count": null,
   "id": "8b897ea7",
   "metadata": {},
   "outputs": [],
   "source": [
    ">>> import calendar\n",
    ">>> print(calendar.month(2019, 2))\n",
    "   February 2019\n",
    "Mo Tu We Th Fr Sa Su\n",
    "             1  2  3\n",
    " 4  5  6  7  8  9 10\n",
    "11 12 13 14 15 16 17\n",
    "18 19 20 21 22 23 24\n",
    "25 26 27 28"
   ]
  },
  {
   "cell_type": "markdown",
   "id": "7545d57c",
   "metadata": {},
   "source": [
    "#### enum 모듈\n",
    "•열거형상수를정의하기위한모듈"
   ]
  },
  {
   "cell_type": "markdown",
   "id": "bcee3b30",
   "metadata": {},
   "source": [
    "### 패키지"
   ]
  },
  {
   "cell_type": "markdown",
   "id": "71189f27",
   "metadata": {},
   "source": [
    "#### __init__.py의 역할\n",
    "• 파이썬패키지로인식:\n",
    "\n",
    "-__init__.py 파일은 해당 디렉토리를 Python 패키지로 인식하게 만듭니다.\n",
    "\n",
    " -Python 3.3 이상에서는 __init__.py가 없어도 패키지로 인식되지만, 명시적으로 포함하는 것이 권장됩니다.\n",
    "\n",
    "• 초기화코드실행:\n",
    "\n",
    "-패키지가import될 때 실행할 초기화코드를포함할수있습니다.\n",
    "\n",
    "-예를들어, 패키지 내에서공통적으로사용할설정이나변수초기화를수행할수있습니다.\n",
    "\n",
    "• __init__.py의 위치\n",
    "\n",
    "-mypackage/\n",
    "\n",
    "-│\n",
    "\n",
    "-├── __init__.py  # 패키지 초기화 파일\n",
    "\n",
    "-├── module1.py\n",
    "\n",
    "-└── module2.py"
   ]
  },
  {
   "cell_type": "markdown",
   "id": "c8610007",
   "metadata": {},
   "source": [
    "### 모듈과 패키지의 차이\n",
    "모듈(Module)\n",
    "\n",
    " • 정의: Python에서 하나의 .py 파일이 하나의 모듈\n",
    " \n",
    " -모듈은함수, 클래스, 변수 등을 포함할수있으며, 코드재사용을위해사용\n",
    "\n",
    "패키지(Package)\n",
    "\n",
    " • 정의: Python에서 디렉토리가 패키지\n",
    " \n",
    " -패키지는여러모듈을포함할수 있음\n",
    " \n",
    " -대규모프로젝트에필요\n",
    " \n",
    " -디렉토리에__init__.py 가 필수적 (비어 있더라도 인식)"
   ]
  },
  {
   "cell_type": "markdown",
   "id": "98665d12",
   "metadata": {},
   "source": [
    "#### 패키지란\n",
    "패키지(Package)\n",
    "\n",
    "• 정의:-Python에서 디렉토리가 패키지\n",
    "\n",
    "-패키지는여러모듈을포함할수있으며, 디렉토리내에__init__.py 파일이 있어야 패키지로인식됨\n",
    "• 특징:\n",
    "\n",
    "-디렉토리단위로구성됨.\n",
    "\n",
    "-모듈을그룹화하여계층구조를제공.\n",
    "\n",
    "-대규모프로젝트에서코드구조를체계적으로관리하는데유용."
   ]
  },
  {
   "cell_type": "markdown",
   "id": "b7b25b3a",
   "metadata": {},
   "source": [
    "### 모듈과 패키지 사용법(클라이언트 코드)\n",
    "모듈: import 함수\n",
    "\n",
    "패키지: from ~ 패키지 import 패키지내 모듈"
   ]
  },
  {
   "cell_type": "code",
   "execution_count": null,
   "id": "ed45813e",
   "metadata": {},
   "outputs": [],
   "source": [
    ">>> import math\n",
    ">>> print(math.sqrt(16))\n",
    "4.0"
   ]
  },
  {
   "cell_type": "markdown",
   "id": "39a48ea5",
   "metadata": {},
   "source": [
    "#### __init__.py 내용\n",
    "패키지 폴더 아래에 위치\n",
    "\n",
    "•패키지(package) : 라이브러리(함수/클래스의집합)"
   ]
  },
  {
   "cell_type": "markdown",
   "id": "17e381c0",
   "metadata": {},
   "source": [
    "### 파이썬 가상환경\n",
    "가상환경이란?\n",
    "\n",
    "•- 프로젝트별로독립된파이썬환경을만드는도구\n",
    "\n",
    "•- 각 프로젝트가서로다른패키지버전을사용할수있게함\n",
    "\n",
    "•- 시스템파이썬환경을오염시키지않음\n",
    "\n",
    "만드는방법\n",
    "\n",
    "• 1. venv (파이썬 3.3+ 내장 모듈)\n",
    "\n",
    "• 2. conda (anaconda)\n",
    "\n",
    "• 3. virtualenv (써드 파티 도구)"
   ]
  },
  {
   "cell_type": "markdown",
   "id": "927b177a",
   "metadata": {},
   "source": [
    "1. venv (파이썬 3.3 + 내장 모듈)\n",
    "\n",
    "Venv가상환경➔ 간단히사용하고싶을경우에사용\n",
    "\n",
    "•파이선3.3 이후부터내장됨"
   ]
  },
  {
   "cell_type": "markdown",
   "id": "388343a2",
   "metadata": {},
   "source": [
    "2. conda\n",
    "\n",
    "Anaconda 설치후사용가능➔ AI 등에는필수적인패키지관리도구"
   ]
  },
  {
   "cell_type": "markdown",
   "id": "200494a0",
   "metadata": {},
   "source": [
    "3. virtualenv(써드 파티 도구)\n",
    "\n",
    "Virtualenv 패키지가상환경\n",
    "\n",
    "•모듈설치후사용가능"
   ]
  },
  {
   "cell_type": "markdown",
   "id": "bdb20884",
   "metadata": {},
   "source": [
    "#### 가상환경 및 모듈 자동 설치\n",
    "파이썬가상환경\n",
    "\n",
    "•모듈, 모듈의버전등을보존하여버전변경으로인한소스코드의오류를방지\n",
    "\n",
    "•가상환경을만들고설치한이후에해당모듈은해당가상환경에저장됨\n",
    "\n",
    "•설치된모듈의목록은pip freeze > requirements.txt로저장\n",
    "\n",
    "•다른가상환경에서해당목록을자동설치할때에는pip install -r requirements.txt 로설치"
   ]
  }
 ],
 "metadata": {
  "kernelspec": {
   "display_name": "Python 3",
   "language": "python",
   "name": "python3"
  },
  "language_info": {
   "codemirror_mode": {
    "name": "ipython",
    "version": 3
   },
   "file_extension": ".py",
   "mimetype": "text/x-python",
   "name": "python",
   "nbconvert_exporter": "python",
   "pygments_lexer": "ipython3",
   "version": "3.13.7"
  }
 },
 "nbformat": 4,
 "nbformat_minor": 5
}
