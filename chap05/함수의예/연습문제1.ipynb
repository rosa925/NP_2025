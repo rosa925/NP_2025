{
 "cells": [
  {
   "cell_type": "markdown",
   "id": "05935bdd",
   "metadata": {},
   "source": [
    "## 함수의예_연습문제 1\n",
    "\n",
    "문제: 반지름을 전달하면 원의 면적을 반환하는 cir_area(r) 함수와 원의 둘레를 반환하는 cir_cirm(r) 함수를 작성하라.\n",
    "\n",
    "이들 함수를 이용하여 반지름이 3.5cm인 원의 면적과 둘레를 소수점 아래 첫 자리까지 구하라.\n",
    "\n",
    "날짜: 2025.9.23\n",
    "\n",
    "학과: 컴퓨터공학과\n",
    "\n",
    "학번: 202210558\n",
    "\n",
    "저자: 박로사"
   ]
  },
  {
   "cell_type": "code",
   "execution_count": 1,
   "id": "7413eaa5",
   "metadata": {},
   "outputs": [
    {
     "name": "stdout",
     "output_type": "stream",
     "text": [
      "반지름 3.5cm인 원의 면적: 38.5 cm²\n",
      "반지름 3.5cm인 원의 둘레: 22.0 cm\n"
     ]
    }
   ],
   "source": [
    "import math  # 원주율 pi 사용을 위해 math 모듈 import\n",
    "\n",
    "# 원의 면적 반환 함수\n",
    "def cir_area(r):\n",
    "    return math.pi * r ** 2\n",
    "\n",
    "# 원의 둘레 반환 함수\n",
    "def cir_cirm(r):\n",
    "    return 2 * math.pi * r\n",
    "\n",
    "# 반지름 3.5cm\n",
    "radius = 3.5\n",
    "\n",
    "# 면적과 둘레 계산\n",
    "area = cir_area(radius)\n",
    "circumference = cir_cirm(radius)\n",
    "\n",
    "# 소수점 첫째 자리까지 출력\n",
    "print(f\"반지름 {radius}cm인 원의 면적: {area:.1f} cm²\")\n",
    "print(f\"반지름 {radius}cm인 원의 둘레: {circumference:.1f} cm\")\n"
   ]
  }
 ],
 "metadata": {
  "kernelspec": {
   "display_name": "Python 3",
   "language": "python",
   "name": "python3"
  },
  "language_info": {
   "codemirror_mode": {
    "name": "ipython",
    "version": 3
   },
   "file_extension": ".py",
   "mimetype": "text/x-python",
   "name": "python",
   "nbconvert_exporter": "python",
   "pygments_lexer": "ipython3",
   "version": "3.13.7"
  }
 },
 "nbformat": 4,
 "nbformat_minor": 5
}
