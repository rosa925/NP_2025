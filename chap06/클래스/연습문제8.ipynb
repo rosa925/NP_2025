{
 "cells": [
  {
   "cell_type": "markdown",
   "id": "05935bdd",
   "metadata": {},
   "source": [
    "## 클래스_연습문제 8\n",
    "\n",
    "문제: 앞의 Person 클래스에서 새로운 Person 객체가 생성될때 ID를 1001번지부터 순차적으로 자 동으로 부여할 수 있도록 Employee 클래스를 포함해서 변경하시오.\n",
    "\n",
    "새로운 Employee객체를 만들어getId()를 호출할때 Id가 중복되면안된다.\n",
    "\n",
    "날짜: 2025.9.29\n",
    "\n",
    "학과: 컴퓨터공학과\n",
    "\n",
    "학번: 202210558\n",
    "\n",
    "저자: 박로사"
   ]
  },
  {
   "cell_type": "code",
   "execution_count": 3,
   "id": "7413eaa5",
   "metadata": {},
   "outputs": [
    {
     "name": "stdout",
     "output_type": "stream",
     "text": [
      "p1: 1001\n",
      "p2: 1002\n",
      "e1: 1003\n"
     ]
    }
   ],
   "source": [
    "class Person:\n",
    "    count = 1000  \n",
    "\n",
    "    def __init__(self, name, age):\n",
    "        self.name = name\n",
    "        self.age = age\n",
    "        Person.count += 1\n",
    "        self.__id = Person.count\n",
    "\n",
    "    def getId(self):\n",
    "        print(self.__id)\n",
    "\n",
    "    def getAge(self):\n",
    "        print(self.age)\n",
    "\n",
    "    def getName(self):\n",
    "        print(self.name)\n",
    "\n",
    "\n",
    "class Employee(Person):\n",
    "    def __init__(self, name, age):\n",
    "        super().__init__(name, age)\n",
    "\n",
    "\n",
    "# 테스트\n",
    "p1 = Person(\"홍길동\", 20)\n",
    "p2 = Person(\"김철수\", 30)\n",
    "e1 = Employee(\"동양\", 65)\n",
    "\n",
    "print(\"p1:\", end=\" \"); p1.getId()\n",
    "print(\"p2:\", end=\" \"); p2.getId()\n",
    "print(\"e1:\", end=\" \"); e1.getId()\n"
   ]
  }
 ],
 "metadata": {
  "kernelspec": {
   "display_name": "Python 3",
   "language": "python",
   "name": "python3"
  },
  "language_info": {
   "codemirror_mode": {
    "name": "ipython",
    "version": 3
   },
   "file_extension": ".py",
   "mimetype": "text/x-python",
   "name": "python",
   "nbconvert_exporter": "python",
   "pygments_lexer": "ipython3",
   "version": "3.13.7"
  }
 },
 "nbformat": 4,
 "nbformat_minor": 5
}
