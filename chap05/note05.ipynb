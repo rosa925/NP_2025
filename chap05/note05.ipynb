{
 "cells": [
  {
   "cell_type": "markdown",
   "id": "57135e3c",
   "metadata": {},
   "source": [
    "## 5장 노트정리\n",
    "\n",
    "이 파일은 5장 학습하면서 실행한 내용을 정리한 것이다.\n",
    "\n",
    "날짜: 2025.9.16\n",
    "\n",
    "학과: 컴퓨터공학과\n",
    "\n",
    "학번: 202210558\n",
    "\n",
    "저자: 박로사"
   ]
  },
  {
   "cell_type": "markdown",
   "id": "4cfc9398",
   "metadata": {},
   "source": [
    "fstream"
   ]
  },
  {
   "cell_type": "code",
   "execution_count": null,
   "id": "23029ec9",
   "metadata": {
    "vscode": {
     "languageId": "plaintext"
    }
   },
   "outputs": [],
   "source": [
    ">>> sum = lambda x, y : x + y\n",
    ">>> sum(1,2)\n",
    "3\n",
    ">>> sum2 = sum\n",
    ">>> sum2(1,2)\n",
    "3"
   ]
  },
  {
   "cell_type": "markdown",
   "id": "12679137",
   "metadata": {},
   "source": [
    "### 내장함수"
   ]
  },
  {
   "cell_type": "markdown",
   "id": "907b7d13",
   "metadata": {},
   "source": [
    "#### eval"
   ]
  },
  {
   "cell_type": "code",
   "execution_count": null,
   "id": "c81a54c0",
   "metadata": {},
   "outputs": [],
   "source": [
    ">>> n = 1\n",
    ">>> m = 2\n",
    ">>> eval('n+m')\n",
    "3"
   ]
  },
  {
   "cell_type": "markdown",
   "id": "1cd9d178",
   "metadata": {},
   "source": [
    "#### int -> bin, oct, hex"
   ]
  },
  {
   "cell_type": "code",
   "execution_count": null,
   "id": "7345bc03",
   "metadata": {},
   "outputs": [],
   "source": [
    ">>> int('1010', 16)\n",
    "4112\n",
    ">>> int('1010', 10)\n",
    "1010\n",
    ">>> hex(int('1010', 16))\n",
    "'0x1010'"
   ]
  },
  {
   "cell_type": "markdown",
   "id": "fde4037b",
   "metadata": {},
   "source": [
    "#### filter 함수"
   ]
  },
  {
   "cell_type": "code",
   "execution_count": null,
   "id": "07a00333",
   "metadata": {},
   "outputs": [],
   "source": [
    ">>> list(filter(lambda x: len(x)>2, ['this', 'is', 'a', 'test']))\n",
    "['this', 'test']"
   ]
  },
  {
   "cell_type": "code",
   "execution_count": null,
   "id": "9686377e",
   "metadata": {},
   "outputs": [],
   "source": [
    ">>> list = ['this', 'is', 'a', 'test']\n",
    ">>> def mylen(str):\n",
    "...     return len(str)\n",
    "... \n",
    ">>> mylen('hello')\n",
    "5"
   ]
  },
  {
   "cell_type": "markdown",
   "id": "5fa689f4",
   "metadata": {},
   "source": []
  }
 ],
 "metadata": {
  "kernelspec": {
   "display_name": "Python 3",
   "language": "python",
   "name": "python3"
  },
  "language_info": {
   "name": "python",
   "version": "3.13.7"
  }
 },
 "nbformat": 4,
 "nbformat_minor": 5
}
