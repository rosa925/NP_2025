{
 "cells": [
  {
   "cell_type": "markdown",
   "id": "57135e3c",
   "metadata": {},
   "source": [
    "## 8장 노트정리\n",
    "\n",
    "이 파일은 8장 학습하면서 실행한 내용을 정리한 것이다.\n",
    "\n",
    "날짜: 2025.9.30\n",
    "\n",
    "학과: 컴퓨터공학과\n",
    "\n",
    "학번: 202210558\n",
    "\n",
    "저자: 박로사"
   ]
  },
  {
   "cell_type": "markdown",
   "id": "b6658e34",
   "metadata": {},
   "source": [
    "### 예외\n",
    "• 프로그램실행도중에오류가발생하면생성되는특별한객체\n",
    "\n",
    "-print(1/0)을 실행하면 ZeroDivisionError 예외 발생\n",
    "\n",
    "• 예외가발생하면파이썬은프로그램실행을중단한다.\n",
    "\n",
    "• 예외처리란예외가발생했을때프로그램실행을중단하지않고처리하는방법을정의한프로그램부분\n",
    "\n",
    "• 예외의종류\n",
    "\n",
    "-ZeroDivisionError          0으로 나눌때\n",
    "\n",
    "-IndexError                 인덱스가범위를벗어날때\n",
    "\n",
    "-FileNotFoundError          존재하지 않는 파일을 열려고 할 때\n",
    "\n",
    "-ValueError                 원하는값을입력받지못할때\n",
    "\n",
    "-NameError                  정의되지않은변수를사용할때\n",
    "\n",
    "-TypeError                  데이터형이맞지않는연산을할때"
   ]
  },
  {
   "cell_type": "markdown",
   "id": "9b413424",
   "metadata": {},
   "source": [
    "#### 여러가지 예외"
   ]
  },
  {
   "cell_type": "code",
   "execution_count": null,
   "id": "6bd4e710",
   "metadata": {},
   "outputs": [],
   "source": [
    ">>> 5/0 \n",
    "Traceback (most recent call last):\n",
    "  File \"<stdin>\", line 1, in <module>\n",
    "    import platform\n",
    "    ^^^\n",
    "ZeroDivisionError: division by zero\n",
    ">>> a=[0,1,2]\n",
    ">>> a[3]\n",
    "Traceback (most recent call last):\n",
    "  File \"<stdin>\", line 1, in <module>\n",
    "    import platform\n",
    "    ^^^^\n",
    "IndexError: list index out of range\n",
    ">>> fp=open(\"Nofile.txt\", \"r\")\n",
    "Traceback (most recent call last):\n",
    "  File \"<stdin>\", line 1, in <module>\n",
    "    import platform\n",
    "       ^^^^^^^^^^^^\n",
    "FileNotFoundError: [Errno 2] No such file or directory: 'Nofile.txt'\n",
    ">>> int(input('Type float number or string : ')) \n",
    "Type float number or string : 1.23\n",
    "Traceback (most recent call last):\n",
    "  File \"<stdin>\", line 1, in <module>\n",
    "    import platform\n",
    "ValueError: invalid literal for int() with base 10: '1.23'\n",
    ">>> 1 + var*2\n",
    "Traceback (most recent call last):\n",
    "  File \"<stdin>\", line 1, in <module>\n",
    "    import platform\n",
    "        ^^^\n",
    "NameError: name 'var' is not defined. Did you mean: 'vars'?\n",
    ">>> \"str\"+1\n",
    "Traceback (most recent call last):\n",
    "  File \"<stdin>\", line 1, in <module>\n",
    "    import platform\n",
    "    ^^^^^^^\n",
    "TypeError: can only concatenate str (not \"int\") to str"
   ]
  }
 ],
 "metadata": {
  "kernelspec": {
   "display_name": "Python 3",
   "language": "python",
   "name": "python3"
  },
  "language_info": {
   "codemirror_mode": {
    "name": "ipython",
    "version": 3
   },
   "file_extension": ".py",
   "mimetype": "text/x-python",
   "name": "python",
   "nbconvert_exporter": "python",
   "pygments_lexer": "ipython3",
   "version": "3.13.7"
  }
 },
 "nbformat": 4,
 "nbformat_minor": 5
}
