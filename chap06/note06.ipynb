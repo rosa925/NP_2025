{
 "cells": [
  {
   "cell_type": "markdown",
   "id": "57135e3c",
   "metadata": {},
   "source": [
    "## 6장 노트정리\n",
    "\n",
    "이 파일은 6장 학습하면서 실행한 내용을 정리한 것이다.\n",
    "\n",
    "날짜: 2025.9.23\n",
    "\n",
    "학과: 컴퓨터공학과\n",
    "\n",
    "학번: 202210558\n",
    "\n",
    "저자: 박로사"
   ]
  },
  {
   "cell_type": "markdown",
   "id": "6d81a4de",
   "metadata": {},
   "source": [
    "### 객체지향 프로그래밍\n",
    "❖객체지향 프로그램은 객체(object)의 속성(변수)과 동작(함수)을 나타내는 클래스를 정의하고, 이로부터 객체를 생성(인스턴스화; Instantiation)하여 작성한 프로그램\n",
    "\n",
    "❖클래스와 객체는 풀빵틀과 풀빵의 관계\n",
    "\n",
    "❖클래스의 동작을 나타내는 함수를 메소드(method)라 한다.\n",
    "\n",
    "❖클래스는 다른클래스로부터 상속받을 수 있다. 상속클래스는 부모클래스가 갖지않는 속성과 메소드를 가질 수 있다.\n",
    "\n",
    "❖객체는 클래스의 속성과 메소드를 갖는다.\n",
    "\n",
    "❖객체는 일반변수처럼 사용된다. 함수의 인자로 사용되고, 함수에서 객체를 반환할수도있다. 튜플이나딕셔너리의요소로사용될수있다."
   ]
  },
  {
   "cell_type": "markdown",
   "id": "64549cc5",
   "metadata": {},
   "source": [
    "### 클래스 정의와 객체 생성"
   ]
  },
  {
   "cell_type": "markdown",
   "id": "d538f291",
   "metadata": {},
   "source": [
    "#### 클래스 정의"
   ]
  },
  {
   "cell_type": "markdown",
   "id": "e6a090a2",
   "metadata": {},
   "source": [
    "class 클래스이름(부모클래스):  class 키워드로정의\n",
    "\n",
    "클래스몸체\n",
    "\n",
    "➊ 클래스는class 키워드로정의된다. 부모클래스는없으면생략\n",
    "\n",
    "➋클래스몸체는변수와 메소드로구성"
   ]
  },
  {
   "cell_type": "markdown",
   "id": "6bc0566b",
   "metadata": {},
   "source": [
    "#### 클래스 객체\n",
    "•클래스를 인스턴스화(instantiation)하여만들어진것을객체(object)라한다\n",
    "\n",
    "•객체는클래스의변수와메소드에접근할수있다"
   ]
  },
  {
   "cell_type": "code",
   "execution_count": null,
   "id": "4a45d4f7",
   "metadata": {},
   "outputs": [],
   "source": [
    ">>> class Test:\n",
    "...     name = \"홍길동\"\n",
    "... \n",
    ">>> t = Test()\n",
    ">>> print(t.name)\n",
    "홍길동"
   ]
  },
  {
   "cell_type": "markdown",
   "id": "489b3f1f",
   "metadata": {},
   "source": [
    "#### 클래스의 예"
   ]
  },
  {
   "cell_type": "code",
   "execution_count": 1,
   "id": "e0ec4a77",
   "metadata": {},
   "outputs": [],
   "source": [
    "class Car :\n",
    "    def __init__(self, color, speed):\n",
    "        self.color = color\n",
    "        self.speed = speed\n",
    "    def speedUp(self, v): \n",
    "        self.speed = self.speed + v\n",
    "        return self.speed\n",
    "    def speedDown(self, v):\n",
    "        self.speed = self.speed - v\n",
    "        return self.speed"
   ]
  },
  {
   "cell_type": "markdown",
   "id": "cf7d8569",
   "metadata": {},
   "source": [
    "•self.variable로 정의된 변수(인스턴스변수)는 클래스 전체에서 유효하다. 클래스 속성은 인스턴스 변수로 정의한다.\n",
    "\n",
    " •self.가 없는 변수는 메소드 내에서만 유효한 지역변수이다."
   ]
  },
  {
   "cell_type": "markdown",
   "id": "f998a50d",
   "metadata": {},
   "source": [
    "### 클래스 초기화 함수"
   ]
  },
  {
   "cell_type": "markdown",
   "id": "0ba937cf",
   "metadata": {},
   "source": [
    "#### __init__\n",
    "• 객체를 생성할때 자동실행메소드\n",
    "\n",
    "• 인스턴스변수(self.var)를 초기화할 때 사용(초기화 필요가 없으면 생략가능)\n",
    "\n",
    "• self를 첫번째 매개변수로 가지며, self는 클래스 객체를 나타낸다\n",
    "\n",
    "• 인스턴스 변수는 클래스 내부의 모든 메소드에서 사용할수있다"
   ]
  },
  {
   "cell_type": "code",
   "execution_count": 2,
   "id": "dee86be9",
   "metadata": {},
   "outputs": [],
   "source": [
    "class Car :\n",
    "    def __init__(self, color, speed):\n",
    "        self.color = color #인스턴스변수self.color 초기화\n",
    "        self.speed = speed  #인스턴스변수self.color 초기화"
   ]
  },
  {
   "cell_type": "markdown",
   "id": "72b25b1d",
   "metadata": {},
   "source": [
    "#### Car 클래스객체를이용한프로그램\n",
    "• Car 클래스 객체 mycar 생성\n",
    "\n",
    "• Car 클래스의 color와 speed 속성 접근\n",
    "\n",
    "• Car 클래스의 speedup()과 speeddown() 메소드 호출"
   ]
  },
  {
   "cell_type": "code",
   "execution_count": null,
   "id": "a42cb7b1",
   "metadata": {},
   "outputs": [],
   "source": [
    "mycar = Car('Black', 60) #Car class 객체 생성\n",
    "print('색상: ', mycar.color, '속도: ', mycar.speed) #속성 접근\n",
    "mycar.color = \"Red\" #속성 변경도 가능\n",
    "print('색상: ', mycar.color)\n",
    " mycar.speedup(10) #speedup() method 호출\n",
    "print('속도: ', mycar.speed)\n",
    " mycar.speeddown(20) #speeddown() method 호출\n",
    "print('속도: ', mycar.speed)"
   ]
  },
  {
   "cell_type": "markdown",
   "id": "8027d394",
   "metadata": {},
   "source": [
    "#### 클래스속성: 클래스변수와인스턴스변수"
   ]
  },
  {
   "cell_type": "code",
   "execution_count": 3,
   "id": "7e3463cf",
   "metadata": {},
   "outputs": [
    {
     "name": "stdout",
     "output_type": "stream",
     "text": [
      "(3, 0)\n",
      "2\n",
      "3\n",
      "1 0\n"
     ]
    }
   ],
   "source": [
    "class Calc:\n",
    "    count = 0\n",
    "    def add(self, a=0, b=0):\n",
    "        self.a = a\n",
    "        self.b = b\n",
    "        self.count += 1\n",
    "        return self.a + self.b\n",
    "    def minus(self, a,b):\n",
    "        if a == 0 or b== 0:\n",
    "            return a - b, self.count\n",
    "        else:\n",
    "            return a-b\n",
    "obj = Calc()\n",
    "print(obj.minus(3,0)) #count 속성 출력\n",
    "print(obj.minus(3,1))\n",
    "print(obj.add(1, 2)) #count 속성 증가\n",
    "print(obj.count, Calc.count)"
   ]
  },
  {
   "cell_type": "markdown",
   "id": "8c973093",
   "metadata": {},
   "source": [
    "### 클래스 상속"
   ]
  },
  {
   "cell_type": "markdown",
   "id": "29bebb07",
   "metadata": {},
   "source": [
    "• 상속은기존에만들어진클래스로부터속성과메소드를이어받고자신이필요한기능을추가하는기법이다\n",
    "\n",
    "• 상위클래스= 부모클래스또는super class\n",
    "\n",
    "• 하위클래스= 자식클래스또는sub class\n",
    "\n",
    "• 상속의구현: class subclass(superclass):\n",
    "\n",
    "• 파이썬프로그램의 모듈은 대부분 클래스로 구현되어있고, 자신의 프로그램에서는 모듈에 포함된 부모클래스를 상속받아 구현된다\n",
    "\n",
    "class Handler(serversocket.BaseRequestHandler):\n",
    "-serversocket 모듈의 BaseRequestHandler 클래스를 상속받아 Handler 클래스 구현"
   ]
  },
  {
   "cell_type": "markdown",
   "id": "136b4ac7",
   "metadata": {},
   "source": [
    "#### 클래스상속예제\n",
    "•People 클래스에서상속받아Teacher 클래스정의\n",
    "\n",
    "•부모클래스호출: super().method(args)/People.method(self, args)"
   ]
  },
  {
   "cell_type": "code",
   "execution_count": 4,
   "id": "6dabf029",
   "metadata": {},
   "outputs": [],
   "source": [
    "class People :\n",
    "    def __init__(self, age=0, name=None):\n",
    "        self.__age = age\n",
    "        self.__name = name\n",
    "        \n",
    "    def introMe(self):\n",
    "        print(\"Name :\", self.__name, \"age :\", str(self.__age))\n",
    "        \n",
    "class Teacher(People) :\n",
    "    def __init__(self, age=0, name=None, school=None) :\n",
    "        super().__init__(age, name)\n",
    "        self.school = school\n",
    "        \n",
    "    def showSchool(self):\n",
    "        print(\"My School is \", self.school)"
   ]
  },
  {
   "cell_type": "code",
   "execution_count": null,
   "id": "a1e0e903",
   "metadata": {},
   "outputs": [],
   "source": []
  },
  {
   "cell_type": "code",
   "execution_count": null,
   "id": "bebfce35",
   "metadata": {},
   "outputs": [],
   "source": [
    " "
   ]
  }
 ],
 "metadata": {
  "kernelspec": {
   "display_name": "Python 3",
   "language": "python",
   "name": "python3"
  },
  "language_info": {
   "codemirror_mode": {
    "name": "ipython",
    "version": 3
   },
   "file_extension": ".py",
   "mimetype": "text/x-python",
   "name": "python",
   "nbconvert_exporter": "python",
   "pygments_lexer": "ipython3",
   "version": "3.13.7"
  }
 },
 "nbformat": 4,
 "nbformat_minor": 5
}
