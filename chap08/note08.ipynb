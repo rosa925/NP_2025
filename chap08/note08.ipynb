{
 "cells": [
  {
   "cell_type": "markdown",
   "id": "57135e3c",
   "metadata": {},
   "source": [
    "## 8장 노트정리\n",
    "\n",
    "이 파일은 8장 학습하면서 실행한 내용을 정리한 것이다.\n",
    "\n",
    "날짜: 2025.9.30\n",
    "\n",
    "학과: 컴퓨터공학과\n",
    "\n",
    "학번: 202210558\n",
    "\n",
    "저자: 박로사"
   ]
  },
  {
   "cell_type": "markdown",
   "id": "b6658e34",
   "metadata": {},
   "source": [
    "### 예외\n",
    "• 프로그램실행도중에오류가발생하면생성되는특별한객체\n",
    "\n",
    "-print(1/0)을 실행하면 ZeroDivisionError 예외 발생\n",
    "\n",
    "• 예외가발생하면파이썬은프로그램실행을중단한다.\n",
    "\n",
    "• 예외처리란예외가발생했을때프로그램실행을중단하지않고처리하는방법을정의한프로그램부분\n",
    "\n",
    "• 예외의종류\n",
    "\n",
    "-ZeroDivisionError          0으로 나눌때\n",
    "\n",
    "-IndexError                 인덱스가범위를벗어날때\n",
    "\n",
    "-FileNotFoundError          존재하지 않는 파일을 열려고 할 때\n",
    "\n",
    "-ValueError                 원하는값을입력받지못할때\n",
    "\n",
    "-NameError                  정의되지않은변수를사용할때\n",
    "\n",
    "-TypeError                  데이터형이맞지않는연산을할때"
   ]
  },
  {
   "cell_type": "markdown",
   "id": "9b413424",
   "metadata": {},
   "source": [
    "#### 여러가지 예외"
   ]
  },
  {
   "cell_type": "code",
   "execution_count": null,
   "id": "6bd4e710",
   "metadata": {},
   "outputs": [],
   "source": [
    ">>> 5/0 \n",
    "Traceback (most recent call last):\n",
    "  File \"<stdin>\", line 1, in <module>\n",
    "    import platform\n",
    "    ^^^\n",
    "ZeroDivisionError: division by zero\n",
    ">>> a=[0,1,2]\n",
    ">>> a[3]\n",
    "Traceback (most recent call last):\n",
    "  File \"<stdin>\", line 1, in <module>\n",
    "    import platform\n",
    "    ^^^^\n",
    "IndexError: list index out of range\n",
    ">>> fp=open(\"Nofile.txt\", \"r\")\n",
    "Traceback (most recent call last):\n",
    "  File \"<stdin>\", line 1, in <module>\n",
    "    import platform\n",
    "       ^^^^^^^^^^^^\n",
    "FileNotFoundError: [Errno 2] No such file or directory: 'Nofile.txt'\n",
    ">>> int(input('Type float number or string : ')) \n",
    "Type float number or string : 1.23\n",
    "Traceback (most recent call last):\n",
    "  File \"<stdin>\", line 1, in <module>\n",
    "    import platform\n",
    "ValueError: invalid literal for int() with base 10: '1.23'\n",
    ">>> 1 + var*2\n",
    "Traceback (most recent call last):\n",
    "  File \"<stdin>\", line 1, in <module>\n",
    "    import platform\n",
    "        ^^^\n",
    "NameError: name 'var' is not defined. Did you mean: 'vars'?\n",
    ">>> \"str\"+1\n",
    "Traceback (most recent call last):\n",
    "  File \"<stdin>\", line 1, in <module>\n",
    "    import platform\n",
    "    ^^^^^^^\n",
    "TypeError: can only concatenate str (not \"int\") to str"
   ]
  },
  {
   "cell_type": "markdown",
   "id": "ac7c553c",
   "metadata": {},
   "source": [
    "#### 예외처리(1)\n",
    "try-except/try-except-else 문"
   ]
  },
  {
   "cell_type": "code",
   "execution_count": 1,
   "id": "38b33f10",
   "metadata": {},
   "outputs": [
    {
     "ename": "NameError",
     "evalue": "name 'b' is not defined",
     "output_type": "error",
     "traceback": [
      "\u001b[31m---------------------------------------------------------------------------\u001b[39m",
      "\u001b[31mNameError\u001b[39m                                 Traceback (most recent call last)",
      "\u001b[36mCell\u001b[39m\u001b[36m \u001b[39m\u001b[32mIn[1]\u001b[39m\u001b[32m, line 2\u001b[39m\n\u001b[32m      1\u001b[39m \u001b[38;5;28;01mtry\u001b[39;00m:\n\u001b[32m----> \u001b[39m\u001b[32m2\u001b[39m     a = \u001b[32m1\u001b[39m / \u001b[43mb\u001b[49m \u001b[38;5;66;03m# ➊\u001b[39;00m\n\u001b[32m      3\u001b[39m \u001b[38;5;28;01mexcept\u001b[39;00m \u001b[38;5;167;01mZeroDivisionError\u001b[39;00m:\n\u001b[32m      4\u001b[39m     \u001b[38;5;28mprint\u001b[39m(\u001b[33m\"\u001b[39m\u001b[33m0으로 나눌 수 없습니다\u001b[39m\u001b[33m\"\u001b[39m) \u001b[38;5;66;03m# ➋\u001b[39;00m\n",
      "\u001b[31mNameError\u001b[39m: name 'b' is not defined"
     ]
    }
   ],
   "source": [
    "try:\n",
    "    a = 1 / b # ➊\n",
    "except ZeroDivisionError:\n",
    "    print(\"0으로 나눌 수 없습니다\") # ➋\n",
    "else: \n",
    "    print(a) # ➌"
   ]
  },
  {
   "cell_type": "markdown",
   "id": "1365f3c5",
   "metadata": {},
   "source": [
    "• ➊ a=1/b를 실행하고 ZeroDivisionError 예외가 발생하면 ➋ 문장 실행\n",
    "\n",
    "• ZeroDivisionError가 아닌 다른 예외가 발생하면 프로그램 중단\n",
    "\n",
    "• 예외가발생하지않으면➌ 문장실행\n",
    "\n",
    "• else: 블록은 생략 가능\n",
    "\n",
    "• except ZeroDivisionError: 에서 ZeroDivisionError를 생략하면 모든 예외에 대해 ➋ 문장 실행"
   ]
  },
  {
   "cell_type": "markdown",
   "id": "13faf7ac",
   "metadata": {},
   "source": []
  }
 ],
 "metadata": {
  "kernelspec": {
   "display_name": "Python 3",
   "language": "python",
   "name": "python3"
  },
  "language_info": {
   "codemirror_mode": {
    "name": "ipython",
    "version": 3
   },
   "file_extension": ".py",
   "mimetype": "text/x-python",
   "name": "python",
   "nbconvert_exporter": "python",
   "pygments_lexer": "ipython3",
   "version": "3.13.7"
  }
 },
 "nbformat": 4,
 "nbformat_minor": 5
}
