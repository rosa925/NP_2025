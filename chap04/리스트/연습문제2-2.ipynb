{
 "cells": [
  {
   "cell_type": "markdown",
   "id": "0beb8b54",
   "metadata": {},
   "source": [
    "## 리스트_연습문제 2-2\n",
    "\n",
    "문제: 크기가 같은 두개의 리스트 L, M을 생성하고 두 리스트의 각 요소 합으로 구성되는 새로운 리스트를 생성하라\n",
    "\n",
    "날짜: 2025.9.16\n",
    "\n",
    "학과: 컴퓨터공학과\n",
    "\n",
    "학번: 202210558\n",
    "\n",
    "저자: 박로사"
   ]
  },
  {
   "cell_type": "code",
   "execution_count": 2,
   "id": "4c2a89d7",
   "metadata": {},
   "outputs": [
    {
     "name": "stdout",
     "output_type": "stream",
     "text": [
      "0~49 리스트: [0, 1, 2, 3, 4, 5, 6, 7, 8, 9, 10, 11, 12, 13, 14, 15, 16, 17, 18, 19, 20, 21, 22, 23, 24, 25, 26, 27, 28, 29, 30, 31, 32, 33, 34, 35, 36, 37, 38, 39, 40, 41, 42, 43, 44, 45, 46, 47, 48, 49]\n",
      "1~50 제곱 리스트: [1, 4, 9, 16, 25, 36, 49, 64, 81, 100, 121, 144, 169, 196, 225, 256, 289, 324, 361, 400, 441, 484, 529, 576, 625, 676, 729, 784, 841, 900, 961, 1024, 1089, 1156, 1225, 1296, 1369, 1444, 1521, 1600, 1681, 1764, 1849, 1936, 2025, 2116, 2209, 2304, 2401, 2500]\n"
     ]
    }
   ],
   "source": [
    "# 0~49까지의 수로 구성되는 리스트\n",
    "numbers = []\n",
    "for i in range(50):  # 0부터 49까지\n",
    "    numbers.append(i)\n",
    "print(\"0~49 리스트:\", numbers)\n",
    "\n",
    "# 1~50까지 수의 제곱으로 구성되는 리스트\n",
    "squares = []\n",
    "for i in range(1, 51):  # 1부터 50까지\n",
    "    squares.append(i ** 2)\n",
    "print(\"1~50 제곱 리스트:\", squares)\n"
   ]
  }
 ],
 "metadata": {
  "kernelspec": {
   "display_name": "Python 3",
   "language": "python",
   "name": "python3"
  },
  "language_info": {
   "codemirror_mode": {
    "name": "ipython",
    "version": 3
   },
   "file_extension": ".py",
   "mimetype": "text/x-python",
   "name": "python",
   "nbconvert_exporter": "python",
   "pygments_lexer": "ipython3",
   "version": "3.13.7"
  }
 },
 "nbformat": 4,
 "nbformat_minor": 5
}
