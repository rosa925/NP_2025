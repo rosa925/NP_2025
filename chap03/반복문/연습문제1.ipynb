{
 "cells": [
  {
   "cell_type": "markdown",
   "id": "05935bdd",
   "metadata": {},
   "source": [
    "## 반복문_연습문제 1\n",
    "\n",
    "문제: 10진수를입력받아2진수로변환하여출력하는프로그램\n",
    "\n",
    "날짜: 2025.9.17\n",
    "\n",
    "학과: 컴퓨터공학과\n",
    "\n",
    "학번: 202210558\n",
    "\n",
    "저자: 박로사"
   ]
  },
  {
   "cell_type": "code",
   "execution_count": 1,
   "id": "7413eaa5",
   "metadata": {},
   "outputs": [
    {
     "name": "stdout",
     "output_type": "stream",
     "text": [
      "2진수= 1011001000100\n"
     ]
    }
   ],
   "source": [
    "n = int(input('Number: '))\n",
    "result = '' #변환결과저장\n",
    "\n",
    "#10진수를2로나누어몫이0이될때까지반복해서나머지를구한다\n",
    "while n != 0:\n",
    "    m = n % 2 #나머지\n",
    "    result = str(m) + result #숫자를문자열로변환\n",
    "    n = n // 2 #몫\n",
    "    \n",
    "print(\"2진수=\", result)\n"
   ]
  }
 ],
 "metadata": {
  "kernelspec": {
   "display_name": "Python 3",
   "language": "python",
   "name": "python3"
  },
  "language_info": {
   "codemirror_mode": {
    "name": "ipython",
    "version": 3
   },
   "file_extension": ".py",
   "mimetype": "text/x-python",
   "name": "python",
   "nbconvert_exporter": "python",
   "pygments_lexer": "ipython3",
   "version": "3.13.7"
  }
 },
 "nbformat": 4,
 "nbformat_minor": 5
}
