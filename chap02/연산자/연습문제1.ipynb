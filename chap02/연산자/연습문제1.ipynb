{
 "cells": [
  {
   "cell_type": "markdown",
   "id": "3163d1b4",
   "metadata": {},
   "source": [
    "## 2장_연습문제 3\n",
    "\n",
    "문제: 원의 반지름을 입력 받아 원의 둘레와 원의 면적을 출력하는 프로그램을 작성하라\n",
    "\n",
    "날짜: 2025.9.10\n",
    "\n",
    "학과: 컴퓨터공학과\n",
    "\n",
    "학번: 202210558\n",
    "\n",
    "저자: 박로사"
   ]
  },
  {
   "cell_type": "code",
   "execution_count": 2,
   "id": "51a21d71",
   "metadata": {},
   "outputs": [
    {
     "name": "stdout",
     "output_type": "stream",
     "text": [
      "반지름: 3.0\n",
      "원의 둘레: 18.84955592153876\n",
      "원의 면적: 28.274333882308138\n"
     ]
    }
   ],
   "source": [
    "import math\n",
    "\n",
    "r = float(input(\"원의 반지름을 입력하세요: \"))\n",
    "\n",
    "circumference = 2 * math.pi * r   # 원의 둘레\n",
    "area = math.pi * r * r            # 원의 면적\n",
    "\n",
    "print(\"반지름:\", r)\n",
    "print(\"원의 둘레:\", circumference)\n",
    "print(\"원의 면적:\", area)"
   ]
  }
 ],
 "metadata": {
  "kernelspec": {
   "display_name": "Python 3",
   "language": "python",
   "name": "python3"
  },
  "language_info": {
   "codemirror_mode": {
    "name": "ipython",
    "version": 3
   },
   "file_extension": ".py",
   "mimetype": "text/x-python",
   "name": "python",
   "nbconvert_exporter": "python",
   "pygments_lexer": "ipython3",
   "version": "3.13.7"
  }
 },
 "nbformat": 4,
 "nbformat_minor": 5
}
