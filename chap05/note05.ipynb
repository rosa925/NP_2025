{
 "cells": [
  {
   "cell_type": "markdown",
   "id": "57135e3c",
   "metadata": {},
   "source": [
    "## 5장 노트정리\n",
    "\n",
    "이 파일은 5장 학습하면서 실행한 내용을 정리한 것이다.\n",
    "\n",
    "날짜: 2025.9.16\n",
    "\n",
    "학과: 컴퓨터공학과\n",
    "\n",
    "학번: 202210558\n",
    "\n",
    "저자: 박로사"
   ]
  },
  {
   "cell_type": "markdown",
   "id": "e77e25c0",
   "metadata": {},
   "source": [
    "#### 함수"
   ]
  },
  {
   "cell_type": "markdown",
   "id": "84a3919b",
   "metadata": {},
   "source": [
    "• 함수란?\n",
    "\n",
    "- 이름을 붙여 반복적으로 사용할 수 있는 프로그램 부분\n",
    "\n",
    "- print(), input(), int(), str() 등\n",
    "\n",
    "• 함수를 사용하는 이유\n",
    "\n",
    "- 프로그램 안에서 중복된 코드를 제거한다.\n",
    "\n",
    "- 복잡한 프로그래밍 작업을 더 간단한 작업들로 분해할 수 있다.\n",
    "\n",
    "- 함수는 한번 만들어지면 다른 프로그램에서도 재사용될 수 있다.\n",
    "\n",
    "- 함수를 사용하면 가독성(프로그램의 이해)이 증대되고, 유지 관리도 쉬워진다.\n",
    "\n",
    "• 파이썬의 함수는 일급 함수이다. 함수를 변수처럼 사용\n",
    "\n",
    "- 변수에 할당: a = func\n",
    "\n",
    "- 다른 함수의 인자로 전달 가능: func1(func)\n",
    "\n",
    "- return 문으로 반환 가능: return func\n",
    "\n",
    "• 함수의 종류\n",
    "\n",
    "- 내장 함수\n",
    "\n",
    "- 사용자 정의 함수\n"
   ]
  },
  {
   "cell_type": "markdown",
   "id": "9d4f70d5",
   "metadata": {},
   "source": [
    "#### 함수 정의와 호출 예"
   ]
  },
  {
   "cell_type": "code",
   "execution_count": 1,
   "id": "eef3ba49",
   "metadata": {},
   "outputs": [
    {
     "name": "stdout",
     "output_type": "stream",
     "text": [
      "Hello,  John\n"
     ]
    }
   ],
   "source": [
    "def welcome(name) : \n",
    "    print(\"Hello, \", name) \n",
    "    \n",
    "welcome('John') "
   ]
  },
  {
   "cell_type": "code",
   "execution_count": 2,
   "id": "cde5fa9e",
   "metadata": {},
   "outputs": [
    {
     "name": "stdout",
     "output_type": "stream",
     "text": [
      "1275\n",
      "500500\n"
     ]
    }
   ],
   "source": [
    "def sum(n):\n",
    "    hab = 0\n",
    "    for i in range(1, n+1): \n",
    "        hab = hab + i \n",
    "    return hab\n",
    "\n",
    "a = sum(50)\n",
    "b = sum(1000)\n",
    "print(a)\n",
    "print(b)"
   ]
  },
  {
   "cell_type": "markdown",
   "id": "f48175e2",
   "metadata": {},
   "source": [
    "### 지역변수와 전역변수"
   ]
  },
  {
   "cell_type": "markdown",
   "id": "868dca0f",
   "metadata": {},
   "source": [
    "• 지역 변수: 함수 내에서만 값이 유효\n",
    "\n",
    "• 전역 변수: 프로그램 전체에서 값이 유효"
   ]
  },
  {
   "cell_type": "code",
   "execution_count": 3,
   "id": "6cd57a08",
   "metadata": {},
   "outputs": [
    {
     "name": "stdout",
     "output_type": "stream",
     "text": [
      "func1()의 v = 10\n",
      "func2()의 변경된 전역 v = 30\n",
      "30\n"
     ]
    }
   ],
   "source": [
    "# 함수 선언부\n",
    "def func1() :\n",
    "    v = 10 #함수 func1()안의 지역 변수\n",
    "    print(\"func1()의 v = %d\" % v)\n",
    "    \n",
    "def func2() :\n",
    "    global v #v를 전역 변수로 선언\n",
    "    v = 30\n",
    "    print(\"func2()의 변경된 전역 v = %d\" % v)\n",
    "    \n",
    "v = 20 #함수 밖에서 정의 되었으므로 전역 변수\n",
    "\n",
    "# 메인 코드 부분\n",
    "func1() #10을 출력\n",
    "func2() #30을 출력\n",
    "print(v) #30을 출력. 전역변수 v가 변경됨"
   ]
  },
  {
   "cell_type": "markdown",
   "id": "54361943",
   "metadata": {},
   "source": [
    "### 가변 매개변수-매개변수의 개수가 가변일 때"
   ]
  },
  {
   "cell_type": "markdown",
   "id": "a1a80d8b",
   "metadata": {},
   "source": [
    "#### 매개변수가 *arg로 표시되면 튜플로 처리\n",
    "#### 매개변수가 **keywords로 표시되면 딕셔너리로 처리"
   ]
  },
  {
   "cell_type": "markdown",
   "id": "6baa996f",
   "metadata": {},
   "source": [
    "#### 키워드를 이용한 매개변수 전달\n",
    "• 매개변수의 위치가 아니라 키워드를 이용하여 매개변수 전달"
   ]
  },
  {
   "cell_type": "code",
   "execution_count": 4,
   "id": "a872395f",
   "metadata": {},
   "outputs": [
    {
     "name": "stdout",
     "output_type": "stream",
     "text": [
      "a= 4 b= 5 c= 3\n",
      "12\n",
      "a= 5 b= 2 c= 7\n",
      "14\n"
     ]
    }
   ],
   "source": [
    "def func(a, b=2, c=3):\n",
    "    print('a=', a, 'b=', b, 'c=', c)\n",
    "    return a + b + c\n",
    "print(func(4, 5))\n",
    "print(func(5, c=7))"
   ]
  },
  {
   "cell_type": "markdown",
   "id": "08a9c9ce",
   "metadata": {},
   "source": [
    "### 람다(무명) 함수\n",
    "• 이름이 없는 한 줄짜리 함수\n",
    "\n",
    "• lambda parameters: expr lambda 함수의 정의\n",
    "\n",
    "• parameters는 매개변수, expr는 결과가 return되는 수식\n",
    "\n",
    "• lambda x, y: x + y 매개변수 x, y를 전달받아 x + y를 리턴\n",
    "\n",
    "• 두 개 이상의 값을 리턴하려면 튜플, 리스트 사용\n",
    "\n",
    "• lambda x, y: (x + y, x * y) (x+y, x*y) 튜플을 반환"
   ]
  },
  {
   "cell_type": "code",
   "execution_count": null,
   "id": "7f90383b",
   "metadata": {},
   "outputs": [
    {
     "name": "stdout",
     "output_type": "stream",
     "text": [
      "정수의 합 :  30\n",
      "정수의 합 :  40\n"
     ]
    }
   ],
   "source": [
    "sum = lambda x, y: x+y\n",
    "print( \"정수의 합 : \", sum( 10, 20 ))\n",
    "print( \"정수의 합 : \", sum( 20, 20 ))"
   ]
  },
  {
   "cell_type": "markdown",
   "id": "25ecae57",
   "metadata": {},
   "source": [
    "### 재귀 함수"
   ]
  },
  {
   "cell_type": "markdown",
   "id": "dfe05ae4",
   "metadata": {},
   "source": [
    "• 함수 내에서 자기 자신을 호출하는 함수\n",
    "\n",
    "• 같은 동작을 반복할 때 재귀 함수 사용\n",
    "\n",
    "• 함수가 종료되는 조건을 반드시 포함해야 한다"
   ]
  },
  {
   "cell_type": "code",
   "execution_count": 6,
   "id": "0023753e",
   "metadata": {},
   "outputs": [
    {
     "name": "stdout",
     "output_type": "stream",
     "text": [
      "120\n"
     ]
    }
   ],
   "source": [
    "def fact(n):\n",
    "    if n==1:\n",
    "        return 1\n",
    "    else:\n",
    "        return n*fact(n-1)\n",
    "\n",
    "print(fact(5))"
   ]
  },
  {
   "cell_type": "markdown",
   "id": "4cfc9398",
   "metadata": {},
   "source": [
    "fstream"
   ]
  },
  {
   "cell_type": "code",
   "execution_count": null,
   "id": "23029ec9",
   "metadata": {},
   "outputs": [],
   "source": [
    ">>> sum = lambda x, y : x + y\n",
    ">>> sum(1,2)\n",
    "3\n",
    ">>> sum2 = sum\n",
    ">>> sum2(1,2)\n",
    "3"
   ]
  },
  {
   "cell_type": "markdown",
   "id": "12679137",
   "metadata": {},
   "source": [
    "### 내장함수"
   ]
  },
  {
   "cell_type": "markdown",
   "id": "907b7d13",
   "metadata": {},
   "source": [
    "#### eval\n",
    " 문자열로 표시된 expr의 계산 결과를 반환. 계산할 수 없으면 오류"
   ]
  },
  {
   "cell_type": "code",
   "execution_count": null,
   "id": "c81a54c0",
   "metadata": {},
   "outputs": [],
   "source": [
    ">>> n = 1\n",
    ">>> m = 2\n",
    ">>> eval('n+m')\n",
    "3"
   ]
  },
  {
   "cell_type": "markdown",
   "id": "1cd9d178",
   "metadata": {},
   "source": [
    "#### int -> bin, oct, hex"
   ]
  },
  {
   "cell_type": "markdown",
   "id": "8bf963a8",
   "metadata": {},
   "source": [
    "문자열 str을 10진수로 변환"
   ]
  },
  {
   "cell_type": "code",
   "execution_count": null,
   "id": "7345bc03",
   "metadata": {},
   "outputs": [],
   "source": [
    ">>> int('1010', 16)\n",
    "4112\n",
    ">>> int('1010', 10)\n",
    "1010\n",
    ">>> hex(int('1010', 16))\n",
    "'0x1010'"
   ]
  },
  {
   "cell_type": "markdown",
   "id": "fde4037b",
   "metadata": {},
   "source": [
    "#### filter 함수"
   ]
  },
  {
   "cell_type": "markdown",
   "id": "4b14b37d",
   "metadata": {},
   "source": [
    "seq의 각 요소에 대해 func를 호출하여 결과 True인 요소만 모아서 iterable로 반환"
   ]
  },
  {
   "cell_type": "code",
   "execution_count": null,
   "id": "07a00333",
   "metadata": {},
   "outputs": [],
   "source": [
    ">>> list(filter(lambda x: len(x)>2, ['this', 'is', 'a', 'test']))\n",
    "['this', 'test']"
   ]
  },
  {
   "cell_type": "code",
   "execution_count": null,
   "id": "9686377e",
   "metadata": {},
   "outputs": [],
   "source": [
    ">>> list = ['this', 'is', 'a', 'test']\n",
    ">>> def mylen(str):\n",
    "...     return len(str)\n",
    "... \n",
    ">>> mylen('hello')\n",
    "5"
   ]
  },
  {
   "cell_type": "markdown",
   "id": "50e4bb4c",
   "metadata": {},
   "source": [
    "#### map 함수\n",
    "seq의 각 요소에 대해 func를 호출하여 실행하고 결과를 iterable로 반환"
   ]
  },
  {
   "cell_type": "code",
   "execution_count": 7,
   "id": "2c8364e7",
   "metadata": {},
   "outputs": [
    {
     "name": "stdout",
     "output_type": "stream",
     "text": [
      "<map object at 0x000001BDE83F13F0>\n"
     ]
    }
   ],
   "source": [
    "def Squares(n):\n",
    "    return n**2\n",
    "numbers = [1,3,5,9]\n",
    "\n",
    "print(map(Squares, numbers))"
   ]
  },
  {
   "cell_type": "markdown",
   "id": "6a712596",
   "metadata": {},
   "source": [
    "#### ord (반대: chr)\n",
    "• ord(ch) – ordinal 의 약자 (순서가 있는 정수값)\n",
    "\n",
    "• Ch에 대한 ASCII 코드 반환 (유니코드 문자 )"
   ]
  },
  {
   "cell_type": "markdown",
   "id": "891fc8bb",
   "metadata": {},
   "source": [
    "#### repr\n",
    "• repr(obj) (유니코드 문자도 가능)\n",
    "\n",
    "• obj를 문자열로 변환"
   ]
  },
  {
   "cell_type": "markdown",
   "id": "b1ee0eb5",
   "metadata": {},
   "source": [
    "#### round\n",
    "• round(x, n=0)\n",
    "\n",
    "• 실수 x를 소수점 아래 n자리로 반올림하여 반환"
   ]
  },
  {
   "cell_type": "code",
   "execution_count": null,
   "id": "973193e4",
   "metadata": {},
   "outputs": [],
   "source": [
    ">>> round(12.345, 1)\n",
    "12.3\n",
    ">>> round(12.345, 2)\n",
    "12.35"
   ]
  },
  {
   "cell_type": "markdown",
   "id": "dec360cf",
   "metadata": {},
   "source": [
    "#### zip\n",
    "• zip(seq, *seqs)\n",
    "\n",
    "• seq 요소와 *seqs 요소의 튜플 쌍으로 만들어 리스트 iterable 반환"
   ]
  },
  {
   "cell_type": "code",
   "execution_count": null,
   "id": "5d1d95f7",
   "metadata": {},
   "outputs": [],
   "source": [
    "names = ['Peter Parker', 'Clark Kent', 'Wade Wilson', 'Bruce Wayne']\n",
    "heroes = ['Spiderman', 'Superman', 'Deadpool', 'Batman']\n",
    "for name, hero in zip(names, heroes):\n",
    "    print(f'{name} is actually {hero}’)\n",
    "list(zip(names,heroes))"
   ]
  },
  {
   "cell_type": "markdown",
   "id": "33c3f3cb",
   "metadata": {},
   "source": [
    "### 타입이 있는 함수와 변수 정의"
   ]
  },
  {
   "cell_type": "markdown",
   "id": "4eb2375a",
   "metadata": {},
   "source": [
    "\n",
    "#### 동적 변수 타입, 함수의 반환 타입이 기본\n",
    "• 예) 기본적으로 타입을 명시하지 않아도 알아서 타입을 추론"
   ]
  },
  {
   "cell_type": "code",
   "execution_count": 9,
   "id": "1472f808",
   "metadata": {},
   "outputs": [],
   "source": [
    "def add(a, b):\n",
    "    return a + b\n",
    "\n",
    "def greet(name) :\n",
    "    return f\"Hello, {name}!\"\n",
    "\n",
    "def get_list():\n",
    "    return [1, 2, 3]"
   ]
  },
  {
   "cell_type": "markdown",
   "id": "5cf98679",
   "metadata": {},
   "source": [
    "#### 명시적 변수 타입, 함수의 반환 타입이 기본\n",
    "• 예) 정확한 계산이 필요할 경우에 타입힌트(hint)를 통해서 가독성과 유지보수성 향상"
   ]
  },
  {
   "cell_type": "code",
   "execution_count": 11,
   "id": "5a4daf63",
   "metadata": {},
   "outputs": [],
   "source": [
    "def add(a: int, b: int) -> int :\n",
    "    return a + b\n",
    "\n",
    "def greet(name: str) -> str :\n",
    "    return f\"Hello, {name}!\"\n",
    "\n",
    "def get_list() -> list :\n",
    "    return [1, 2, 3]"
   ]
  }
 ],
 "metadata": {
  "kernelspec": {
   "display_name": "Python 3",
   "language": "python",
   "name": "python3"
  },
  "language_info": {
   "codemirror_mode": {
    "name": "ipython",
    "version": 3
   },
   "file_extension": ".py",
   "mimetype": "text/x-python",
   "name": "python",
   "nbconvert_exporter": "python",
   "pygments_lexer": "ipython3",
   "version": "3.13.7"
  }
 },
 "nbformat": 4,
 "nbformat_minor": 5
}
