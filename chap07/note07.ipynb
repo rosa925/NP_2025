{
 "cells": [
  {
   "cell_type": "markdown",
   "id": "57135e3c",
   "metadata": {},
   "source": [
    "## 7장 노트정리\n",
    "\n",
    "이 파일은 7장 학습하면서 실행한 내용을 정리한 것이다.\n",
    "\n",
    "날짜: 2025.9.30\n",
    "\n",
    "학과: 컴퓨터공학과\n",
    "\n",
    "학번: 202210558\n",
    "\n",
    "저자: 박로사"
   ]
  }
 ],
 "metadata": {
  "kernelspec": {
   "display_name": "Python 3",
   "language": "python",
   "name": "python3"
  },
  "language_info": {
   "codemirror_mode": {
    "name": "ipython",
    "version": 3
   },
   "file_extension": ".py",
   "mimetype": "text/x-python",
   "name": "python",
   "nbconvert_exporter": "python",
   "pygments_lexer": "ipython3",
   "version": "3.13.7"
  }
 },
 "nbformat": 4,
 "nbformat_minor": 5
}
