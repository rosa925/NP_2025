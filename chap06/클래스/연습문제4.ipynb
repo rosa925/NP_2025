{
 "cells": [
  {
   "cell_type": "markdown",
   "id": "05935bdd",
   "metadata": {},
   "source": [
    "## 클래스_연습문제 4\n",
    "\n",
    "문제: Password_manager 클래스를 작성하라. 이 클래스는사용자의모든과거패스워드를저장하는old_passwords 리스트 변수를 갖는다.리스트의마지막요소는현재패스워드이다. \n",
    "\n",
    "현재 패스워드를알려주는get_password와 새로운패스워드를설정하는set_password 메소드를정의하라.\n",
    "\n",
    "set_password는 과거에 사용하지 않은새로운패스워드를설정할때만유효하다.\n",
    "\n",
    "문자열을입력받아현재패스워드와같은지True 또는False를반환하는is_correct 메소드를정의하라.\n",
    "\n",
    "날짜: 2025.9.29\n",
    "\n",
    "학과: 컴퓨터공학과\n",
    "\n",
    "학번: 202210558\n",
    "\n",
    "저자: 박로사"
   ]
  },
  {
   "cell_type": "code",
   "execution_count": 1,
   "id": "7413eaa5",
   "metadata": {},
   "outputs": [
    {
     "name": "stdout",
     "output_type": "stream",
     "text": [
      "현재 비밀번호: 1234\n",
      "비밀번호 일치 여부: True\n",
      "✅ 비밀번호가 성공적으로 변경되었습니다.\n",
      "⚠️ 이미 사용한 패스워드입니다. 다른 비밀번호를 입력하세요.\n",
      "현재 비밀번호: abcd\n",
      "비밀번호 일치 여부: True\n"
     ]
    }
   ],
   "source": [
    "class Password_manager:\n",
    "    def __init__(self, initial_password):\n",
    "        self.old_passwords = [initial_password]\n",
    "\n",
    "    def get_password(self):\n",
    "        \"\"\"현재 패스워드 반환\"\"\"\n",
    "        return self.old_passwords[-1]\n",
    "\n",
    "    def set_password(self, new_password):\n",
    "        \"\"\"\n",
    "        새로운 패스워드를 설정.\n",
    "        과거에 사용한 적 없는 패스워드만 설정 가능.\n",
    "        \"\"\"\n",
    "        if new_password in self.old_passwords:\n",
    "            print(\"⚠️ 이미 사용한 패스워드입니다. 다른 비밀번호를 입력하세요.\")\n",
    "            return False\n",
    "        self.old_passwords.append(new_password)\n",
    "        print(\"✅ 비밀번호가 성공적으로 변경되었습니다.\")\n",
    "        return True\n",
    "\n",
    "    def is_correct(self, password):\n",
    "        \"\"\"입력한 문자열이 현재 패스워드와 같은지 검사\"\"\"\n",
    "        return password == self.get_password()\n",
    "\n",
    "\n",
    "# 테스트\n",
    "if __name__ == \"__main__\":\n",
    "    pm = Password_manager(\"1234\")\n",
    "    print(\"현재 비밀번호:\", pm.get_password())\n",
    "    print(\"비밀번호 일치 여부:\", pm.is_correct(\"1234\"))\n",
    "    pm.set_password(\"abcd\")\n",
    "    pm.set_password(\"1234\")\n",
    "    print(\"현재 비밀번호:\", pm.get_password())\n",
    "    print(\"비밀번호 일치 여부:\", pm.is_correct(\"abcd\"))\n"
   ]
  }
 ],
 "metadata": {
  "kernelspec": {
   "display_name": "Python 3",
   "language": "python",
   "name": "python3"
  },
  "language_info": {
   "codemirror_mode": {
    "name": "ipython",
    "version": 3
   },
   "file_extension": ".py",
   "mimetype": "text/x-python",
   "name": "python",
   "nbconvert_exporter": "python",
   "pygments_lexer": "ipython3",
   "version": "3.13.7"
  }
 },
 "nbformat": 4,
 "nbformat_minor": 5
}
