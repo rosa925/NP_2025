{
 "cells": [
  {
   "cell_type": "markdown",
   "id": "57135e3c",
   "metadata": {},
   "source": [
    "## 6장 노트정리\n",
    "\n",
    "이 파일은 6장 학습하면서 실행한 내용을 정리한 것이다.\n",
    "\n",
    "날짜: 2025.9.23\n",
    "\n",
    "학과: 컴퓨터공학과\n",
    "\n",
    "학번: 202210558\n",
    "\n",
    "저자: 박로사"
   ]
  },
  {
   "cell_type": "markdown",
   "id": "6d81a4de",
   "metadata": {},
   "source": [
    "### 객체지향 프로그래밍\n",
    "❖객체지향 프로그램은 객체(object)의 속성(변수)과 동작(함수)을 나타내는 클래스를 정의하고, 이로부터 객체를 생성(인스턴스화; Instantiation)하여 작성한 프로그램\n",
    "\n",
    "❖클래스와 객체는 풀빵틀과 풀빵의 관계\n",
    "\n",
    "❖클래스의 동작을 나타내는 함수를 메소드(method)라 한다.\n",
    "\n",
    "❖클래스는 다른클래스로부터 상속받을 수 있다. 상속클래스는 부모클래스가 갖지않는 속성과 메소드를 가질 수 있다.\n",
    "\n",
    "❖객체는 클래스의 속성과 메소드를 갖는다.\n",
    "\n",
    "❖객체는 일반변수처럼 사용된다. 함수의 인자로 사용되고, 함수에서 객체를 반환할수도있다. 튜플이나딕셔너리의요소로사용될수있다."
   ]
  },
  {
   "cell_type": "markdown",
   "id": "64549cc5",
   "metadata": {},
   "source": [
    "### 클래스 정의와 객체 생성"
   ]
  },
  {
   "cell_type": "markdown",
   "id": "d538f291",
   "metadata": {},
   "source": [
    "#### 클래스 정의"
   ]
  },
  {
   "cell_type": "markdown",
   "id": "e6a090a2",
   "metadata": {},
   "source": [
    "class 클래스이름(부모클래스):  class 키워드로정의\n",
    "\n",
    "클래스몸체\n",
    "\n",
    "➊ 클래스는class 키워드로정의된다. 부모클래스는없으면생략\n",
    "\n",
    "➋클래스몸체는변수와 메소드로구성"
   ]
  },
  {
   "cell_type": "markdown",
   "id": "6bc0566b",
   "metadata": {},
   "source": [
    "#### 클래스 객체\n",
    "•클래스를 인스턴스화(instantiation)하여만들어진것을객체(object)라한다\n",
    "\n",
    "•객체는클래스의변수와메소드에접근할수있다"
   ]
  },
  {
   "cell_type": "code",
   "execution_count": null,
   "id": "4a45d4f7",
   "metadata": {},
   "outputs": [],
   "source": [
    ">>> class Test:\n",
    "...     name = \"홍길동\"\n",
    "... \n",
    ">>> t = Test()\n",
    ">>> print(t.name)\n",
    "홍길동"
   ]
  },
  {
   "cell_type": "markdown",
   "id": "489b3f1f",
   "metadata": {},
   "source": [
    "#### 클래스의 예"
   ]
  },
  {
   "cell_type": "code",
   "execution_count": 1,
   "id": "e0ec4a77",
   "metadata": {},
   "outputs": [],
   "source": [
    "class Car :\n",
    "    def __init__(self, color, speed):\n",
    "        self.color = color\n",
    "        self.speed = speed\n",
    "    def speedUp(self, v): \n",
    "        self.speed = self.speed + v\n",
    "        return self.speed\n",
    "    def speedDown(self, v):\n",
    "        self.speed = self.speed - v\n",
    "        return self.speed"
   ]
  },
  {
   "cell_type": "markdown",
   "id": "cf7d8569",
   "metadata": {},
   "source": [
    "•self.variable로 정의된 변수(인스턴스변수)는 클래스 전체에서 유효하다. 클래스 속성은 인스턴스 변수로 정의한다.\n",
    "\n",
    " •self.가 없는 변수는 메소드 내에서만 유효한 지역변수이다."
   ]
  },
  {
   "cell_type": "markdown",
   "id": "f998a50d",
   "metadata": {},
   "source": [
    "### 클래스 초기화 함수"
   ]
  },
  {
   "cell_type": "markdown",
   "id": "0ba937cf",
   "metadata": {},
   "source": [
    "#### __init__\n",
    "• 객체를 생성할때 자동실행메소드\n",
    "\n",
    "• 인스턴스변수(self.var)를 초기화할 때 사용(초기화 필요가 없으면 생략가능)\n",
    "\n",
    "• self를 첫번째 매개변수로 가지며, self는 클래스 객체를 나타낸다\n",
    "\n",
    "• 인스턴스 변수는 클래스 내부의 모든 메소드에서 사용할수있다"
   ]
  },
  {
   "cell_type": "code",
   "execution_count": 2,
   "id": "dee86be9",
   "metadata": {},
   "outputs": [],
   "source": [
    "class Car :\n",
    "    def __init__(self, color, speed):\n",
    "        self.color = color #인스턴스변수self.color 초기화\n",
    "        self.speed = speed  #인스턴스변수self.color 초기화"
   ]
  },
  {
   "cell_type": "markdown",
   "id": "72b25b1d",
   "metadata": {},
   "source": [
    "#### Car 클래스객체를이용한프로그램\n",
    "• Car 클래스 객체 mycar 생성\n",
    "\n",
    "• Car 클래스의 color와 speed 속성 접근\n",
    "\n",
    "• Car 클래스의 speedup()과 speeddown() 메소드 호출"
   ]
  },
  {
   "cell_type": "code",
   "execution_count": null,
   "id": "a42cb7b1",
   "metadata": {},
   "outputs": [],
   "source": [
    "mycar = Car('Black', 60) #Car class 객체 생성\n",
    "print('색상: ', mycar.color, '속도: ', mycar.speed) #속성 접근\n",
    "mycar.color = \"Red\" #속성 변경도 가능\n",
    "print('색상: ', mycar.color)\n",
    " mycar.speedup(10) #speedup() method 호출\n",
    "print('속도: ', mycar.speed)\n",
    " mycar.speeddown(20) #speeddown() method 호출\n",
    "print('속도: ', mycar.speed)"
   ]
  },
  {
   "cell_type": "markdown",
   "id": "8027d394",
   "metadata": {},
   "source": [
    "#### 클래스속성: 클래스변수와인스턴스변수"
   ]
  },
  {
   "cell_type": "code",
   "execution_count": 3,
   "id": "7e3463cf",
   "metadata": {},
   "outputs": [
    {
     "name": "stdout",
     "output_type": "stream",
     "text": [
      "(3, 0)\n",
      "2\n",
      "3\n",
      "1 0\n"
     ]
    }
   ],
   "source": [
    "class Calc:\n",
    "    count = 0\n",
    "    def add(self, a=0, b=0):\n",
    "        self.a = a\n",
    "        self.b = b\n",
    "        self.count += 1\n",
    "        return self.a + self.b\n",
    "    def minus(self, a,b):\n",
    "        if a == 0 or b== 0:\n",
    "            return a - b, self.count\n",
    "        else:\n",
    "            return a-b\n",
    "obj = Calc()\n",
    "print(obj.minus(3,0)) #count 속성 출력\n",
    "print(obj.minus(3,1))\n",
    "print(obj.add(1, 2)) #count 속성 증가\n",
    "print(obj.count, Calc.count)"
   ]
  },
  {
   "cell_type": "markdown",
   "id": "8c973093",
   "metadata": {},
   "source": [
    "### 클래스 상속"
   ]
  },
  {
   "cell_type": "markdown",
   "id": "29bebb07",
   "metadata": {},
   "source": [
    "• 상속은기존에만들어진클래스로부터속성과메소드를이어받고자신이필요한기능을추가하는기법이다\n",
    "\n",
    "• 상위클래스= 부모클래스또는super class\n",
    "\n",
    "• 하위클래스= 자식클래스또는sub class\n",
    "\n",
    "• 상속의구현: class subclass(superclass):\n",
    "\n",
    "• 파이썬프로그램의 모듈은 대부분 클래스로 구현되어있고, 자신의 프로그램에서는 모듈에 포함된 부모클래스를 상속받아 구현된다\n",
    "\n",
    "class Handler(serversocket.BaseRequestHandler):\n",
    "-serversocket 모듈의 BaseRequestHandler 클래스를 상속받아 Handler 클래스 구현"
   ]
  },
  {
   "cell_type": "markdown",
   "id": "136b4ac7",
   "metadata": {},
   "source": [
    "#### 클래스상속예제\n",
    "•People 클래스에서상속받아Teacher 클래스정의\n",
    "\n",
    "•부모클래스호출: super().method(args)/People.method(self, args)"
   ]
  },
  {
   "cell_type": "code",
   "execution_count": 4,
   "id": "6dabf029",
   "metadata": {},
   "outputs": [],
   "source": [
    "class People :\n",
    "    def __init__(self, age=0, name=None):\n",
    "        self.__age = age\n",
    "        self.__name = name\n",
    "        \n",
    "    def introMe(self):\n",
    "        print(\"Name :\", self.__name, \"age :\", str(self.__age))\n",
    "        \n",
    "class Teacher(People) :\n",
    "    def __init__(self, age=0, name=None, school=None) :\n",
    "        super().__init__(age, name)\n",
    "        self.school = school\n",
    "        \n",
    "    def showSchool(self):\n",
    "        print(\"My School is \", self.school)"
   ]
  },
  {
   "cell_type": "markdown",
   "id": "8d959907",
   "metadata": {},
   "source": [
    "#### 상속예제\n",
    "•상속메소드호출"
   ]
  },
  {
   "cell_type": "code",
   "execution_count": null,
   "id": "bebfce35",
   "metadata": {},
   "outputs": [],
   "source": [
    ">>> p1 = People(29, \"Lee\")\n",
    ">>> p1.introMe()\n",
    "Name : Lee age : 29\n",
    ">>> t1 = Teacher(48, \"Kim\", \"HighSchool\")\n",
    ">>> t1.introMe()\n",
    "Name : Kim age : 48\n",
    " >>> t1.showSchool()\n",
    "My School is  HighSchool"
   ]
  },
  {
   "cell_type": "markdown",
   "id": "c747c685",
   "metadata": {},
   "source": [
    "### 메소드 오버라이딩"
   ]
  },
  {
   "cell_type": "markdown",
   "id": "e8756c06",
   "metadata": {},
   "source": [
    "•자식클래스에서부모클래스의메소드를수정해다시정의하는것\n",
    "\n",
    "•Student 클래스에서People 클래스의introMe() 메소드를재정의하여사용"
   ]
  },
  {
   "cell_type": "code",
   "execution_count": 13,
   "id": "eaffe38a",
   "metadata": {},
   "outputs": [],
   "source": [
    "class People :\n",
    "    def __init__(self, age=0, name=None):\n",
    "        self.__age = age\n",
    "        self.__name = name\n",
    "    def introMe(self):\n",
    "        print(\"Name :\", self.__name, \"age :\", str(self.__age))\n",
    "        \n",
    "class Student(People) :\n",
    "    def __init__(self, age=0, name=None, grade=None):\n",
    "        super().__init__(age, name)\n",
    "        self.__grade = grade\n",
    "    def introMe(self):\n",
    "        super().introMe()\n",
    "        print(\"Grade : \", self.__grade)"
   ]
  },
  {
   "cell_type": "markdown",
   "id": "9e89a0d0",
   "metadata": {},
   "source": [
    "#### 오버라이딩메소드호출"
   ]
  },
  {
   "cell_type": "code",
   "execution_count": 14,
   "id": "7b25ee1f",
   "metadata": {},
   "outputs": [
    {
     "name": "stdout",
     "output_type": "stream",
     "text": [
      "Name : Lee age : 29\n",
      "Name : Park age : 17\n",
      "Grade :  2\n"
     ]
    }
   ],
   "source": [
    "p1 = People(29, \"Lee\")\n",
    "p1.introMe()\n",
    "\n",
    "s1 = Student(17, \"Park\", 2)\n",
    "s1.introMe()"
   ]
  },
  {
   "cell_type": "markdown",
   "id": "0b406eff",
   "metadata": {},
   "source": [
    "### 다형성"
   ]
  },
  {
   "cell_type": "markdown",
   "id": "e2d7c34e",
   "metadata": {},
   "source": [
    "전달된 인자에 따라 함수 또는 연산의 기능이 달라지는 기능\n",
    "\n",
    "• 2 + 3 → 5\n",
    "\n",
    "• '2' + '3' → '23'\n",
    "\n",
    "• 'Hello ' + 'World' → 'Hello World'"
   ]
  },
  {
   "cell_type": "code",
   "execution_count": 17,
   "id": "7da62c3c",
   "metadata": {},
   "outputs": [
    {
     "name": "stdout",
     "output_type": "stream",
     "text": [
      "안녕하세요\n",
      "Hello\n"
     ]
    }
   ],
   "source": [
    "class Korean(object): \n",
    "    def greeting(self): \n",
    "        print(\"안녕하세요\") \n",
    "class American(object): \n",
    "    def greeting(self): \n",
    "        print(\"Hello\") \n",
    "def sayhello(people): \n",
    "    people.greeting()\n",
    "    \n",
    "Kim = Korean()\n",
    "John = American()\n",
    "sayhello(Kim)\n",
    "sayhello(John)"
   ]
  },
  {
   "cell_type": "markdown",
   "id": "d6cbf3e8",
   "metadata": {},
   "source": [
    "### 가시성\n",
    "파이썬은 C++/자바와 달리 접근제어자(public, protected, private)가 엄격하게 적용되지 않습니다.\n",
    "\n",
    "하지만 관례적으로 다음과 같이 가시성을 표현할 수 있습니다."
   ]
  },
  {
   "cell_type": "markdown",
   "id": "8819c542",
   "metadata": {},
   "source": [
    "• public: 이름 앞에 밑줄 없음 (예: value)\n",
    "\n",
    " → 어디서나접근가능\n",
    "\n",
    "• protected: 이름 앞에 밑줄 1개 (예: _value)\n",
    "\n",
    " → 하위 클래스에서접근권장, 외부에서직접접근은권장하지않음\n",
    "\n",
    "• private: 이름 앞에 밑줄 2개 (예: __value)\n",
    "\n",
    " → 클래스내부에서만접근, 이름이맹글링(name mangling)되어 외부/하위 클래스에서 직접 접근어렵게만듦"
   ]
  },
  {
   "cell_type": "code",
   "execution_count": 18,
   "id": "a838e66b",
   "metadata": {},
   "outputs": [],
   "source": [
    "class Base:\n",
    "    def __init__(self):\n",
    "        self.public_value = 1\n",
    "        self._protected_value = 2\n",
    "        self.__private_value = 3\n",
    "        \n",
    "class Child(Base):\n",
    "    def show(self):\n",
    "        print(self.public_value)\n",
    "        print(self._protected_value)\n",
    "        \n",
    "class Other:\n",
    "    def show(self, obj: Base):\n",
    "        print(obj.public_value)\n",
    "        print(obj._protected_value)"
   ]
  },
  {
   "cell_type": "markdown",
   "id": "af935aea",
   "metadata": {},
   "source": [
    "### 추상 함수\n",
    "파이썬에서추상메서드(abstract method)\n",
    "\n",
    "• abc 모듈의 ABC(Abstract Base Class)와 @abstractmethod 데코레이터 (Java 의 annotation)를 사용해정의\n",
    "\n",
    "• 추상메서드는반드시하위클래스에서구현해야하며, 직접인스턴스화할수없음"
   ]
  },
  {
   "cell_type": "code",
   "execution_count": null,
   "id": "50211c55",
   "metadata": {},
   "outputs": [],
   "source": [
    "from abc import ABC, abstractmethod\n",
    "\n",
    "class Animal(ABC):\n",
    "    @abstractmethod\n",
    "    def sound(self):\n",
    "        pass\n",
    "class Dog(Animal):\n",
    "    def sount(self):\n",
    "        return \"멍멍\"\n",
    "    \n",
    "d = Dog()\n",
    "print(d.sound())"
   ]
  },
  {
   "cell_type": "markdown",
   "id": "e9cd9172",
   "metadata": {},
   "source": [
    "### 정적 멤버 (static variable, static methods)\n",
    "• 파이썬에서static member(정적 멤버, 클래스 변수)는 클래스 전체에서 공유되는 변수\n",
    "\n",
    "• 클래스변수, 클래스메소드라고함\n",
    "\n",
    "• 메서드의경우@staticmethod 데코레이터를 사용해 정적 메서드를정의\n",
    "\n",
    "• 정적변수는클래스안에self 가아닌일반변수로선언하고클래스.변수형태로접근"
   ]
  },
  {
   "cell_type": "code",
   "execution_count": 27,
   "id": "bf583e37",
   "metadata": {},
   "outputs": [
    {
     "name": "stdout",
     "output_type": "stream",
     "text": [
      "1\n",
      "1\n",
      "2\n"
     ]
    }
   ],
   "source": [
    "class Counter:\n",
    "    count = 0\n",
    "    \n",
    "    def __init__(self):\n",
    "        self.object_counter = 1\n",
    "        \n",
    "    @staticmethod\n",
    "    def increment_class():\n",
    "        Counter.count += 1\n",
    "        \n",
    "    def increment_object(self):\n",
    "        self.object_counter += 1\n",
    "        \n",
    "if __name__ == \"__main__\":\n",
    "    Counter.increment_class()\n",
    "    print(Counter.count)\n",
    "    \n",
    "    c = Counter()\n",
    "    print(c.object_counter)\n",
    "    c.increment_object()\n",
    "    print(c.object_counter)"
   ]
  },
  {
   "cell_type": "markdown",
   "id": "c3e0187f",
   "metadata": {},
   "source": [
    "### 파이썬 데코레이터\n",
    "파이썬데코레이터(decorator)는함수나클래스의동작을수정하거나확장할때사용하는문법\n",
    "\n",
    "• 함수(또는 메서드) 정의 위에@데코레이터이름형태로사용\n",
    "\n",
    "• 해당함수가호출될때데코레이터함수내에서해당함수가실행\n",
    "\n",
    "• 데코레이터함수의정의는다음형식을따라wrapper 이름의멤버메소드를정의"
   ]
  },
  {
   "cell_type": "code",
   "execution_count": 28,
   "id": "a9afe135",
   "metadata": {},
   "outputs": [
    {
     "name": "stdout",
     "output_type": "stream",
     "text": [
      "=== 예제 1: 기본 데코레이터 ===\n",
      "함수 실행 전\n",
      "Hello, World!\n",
      "함수 실행 후\n"
     ]
    }
   ],
   "source": [
    "def simple_decorator(func):\n",
    "    def wrapper():\n",
    "        print(\"함수 실행 전\")\n",
    "        result = func()\n",
    "        print(\"함수 실행 후\")\n",
    "        return result\n",
    "    return wrapper\n",
    "\n",
    "@simple_decorator\n",
    "def say_hello():\n",
    "    print(\"Hello, World!\")\n",
    "    \n",
    "if __name__ == \"__main__\":\n",
    "    print(\"=== 예제 1: 기본 데코레이터 ===\")\n",
    "    say_hello()"
   ]
  },
  {
   "cell_type": "markdown",
   "id": "0288694d",
   "metadata": {},
   "source": [
    "#### 기존함수를확장(데코레이터를통한)하기위한방법2\n",
    "이미작성된함수의기능을확장할때2가지방법\n",
    "1. 함수 재할당\n",
    "\n",
    "-장식이된함수명을기존함수명으로그대로사용하게하고싶을때:기존클라이언트코드변경없이\n",
    "\n",
    "-원본함수명= decorator(원본 함수명)\n",
    "\n",
    "2. 다른 함수명\n",
    "\n",
    "-장식이된함수명을새로운함수명으로명명하여사용해도좋을때:새롭게클라이언트함수를짤때\n",
    "\n",
    "-신규함수명= decorator(원본 함수명)"
   ]
  },
  {
   "cell_type": "code",
   "execution_count": 30,
   "id": "b08b826c",
   "metadata": {},
   "outputs": [
    {
     "name": "stdout",
     "output_type": "stream",
     "text": [
      "함수 실행 전\n",
      "Hello, World!\n",
      "함수 실행 후\n",
      "함수 실행 전\n",
      "Hello, World!\n",
      "함수 실행 후\n"
     ]
    }
   ],
   "source": [
    "def say_hello():\n",
    "    print(\"Hello, World!\")\n",
    "    \n",
    "def simple_decorator(func):\n",
    "    def wrapper():\n",
    "        print(\"함수 실행 전\")\n",
    "        result = func()\n",
    "        print(\"함수 실행 후\")\n",
    "        return result\n",
    "    return wrapper\n",
    "\n",
    "original_hello = say_hello\n",
    "say_hello = simple_decorator(original_hello)\n",
    "decorated_say_hello = simple_decorator(original_hello)\n",
    "\n",
    "if __name__ == \"__main__\":\n",
    "    say_hello()\n",
    "    decorated_say_hello()"
   ]
  },
  {
   "cell_type": "markdown",
   "id": "7f8d6074",
   "metadata": {},
   "source": []
  }
 ],
 "metadata": {
  "kernelspec": {
   "display_name": "Python 3",
   "language": "python",
   "name": "python3"
  },
  "language_info": {
   "codemirror_mode": {
    "name": "ipython",
    "version": 3
   },
   "file_extension": ".py",
   "mimetype": "text/x-python",
   "name": "python",
   "nbconvert_exporter": "python",
   "pygments_lexer": "ipython3",
   "version": "3.13.7"
  }
 },
 "nbformat": 4,
 "nbformat_minor": 5
}
