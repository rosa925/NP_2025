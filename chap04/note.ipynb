{
 "cells": [
  {
   "cell_type": "markdown",
   "id": "57135e3c",
   "metadata": {},
   "source": []
  }
 ],
 "metadata": {
  "language_info": {
   "name": "python"
  }
 },
 "nbformat": 4,
 "nbformat_minor": 5
}
