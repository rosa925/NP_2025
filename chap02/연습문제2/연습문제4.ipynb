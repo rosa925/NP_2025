{
 "cells": [
  {
   "cell_type": "markdown",
   "id": "3163d1b4",
   "metadata": {},
   "source": [
    "## 연습문제2_연습문제 4\n",
    "\n",
    "문제: 1부터 n까지의 합은 n(n+1)/2로 주어진다. 1부터 100까지의 합을 구하여 출력하는 프로그램을 작성하고 실행하라\n",
    "\n",
    "날짜: 2025.9.10\n",
    "\n",
    "학과: 컴퓨터공학과\n",
    "\n",
    "학번: 202210558\n",
    "\n",
    "저자: 박로사"
   ]
  },
  {
   "cell_type": "code",
   "execution_count": 1,
   "id": "51a21d71",
   "metadata": {},
   "outputs": [
    {
     "name": "stdout",
     "output_type": "stream",
     "text": [
      "1부터 100까지의 합: 5050\n"
     ]
    }
   ],
   "source": [
    "n = 100\n",
    "total = n * (n + 1) // 2   # 정수 결과를 위해 // 사용\n",
    "print(\"1부터 100까지의 합:\", total)"
   ]
  }
 ],
 "metadata": {
  "kernelspec": {
   "display_name": "Python 3",
   "language": "python",
   "name": "python3"
  },
  "language_info": {
   "codemirror_mode": {
    "name": "ipython",
    "version": 3
   },
   "file_extension": ".py",
   "mimetype": "text/x-python",
   "name": "python",
   "nbconvert_exporter": "python",
   "pygments_lexer": "ipython3",
   "version": "3.13.7"
  }
 },
 "nbformat": 4,
 "nbformat_minor": 5
}
