{
 "cells": [
  {
   "cell_type": "markdown",
   "id": "57135e3c",
   "metadata": {},
   "source": [
    "## 5장 노트정리\n",
    "\n",
    "이 파일은 5장 학습하면서 실행한 내용을 정리한 것이다.\n",
    "\n",
    "날짜: 2025.9.16\n",
    "\n",
    "학과: 컴퓨터공학과\n",
    "\n",
    "학번: 202210558\n",
    "\n",
    "저자: 박로사"
   ]
  },
  {
   "cell_type": "markdown",
   "id": "e77e25c0",
   "metadata": {},
   "source": [
    "#### 함수"
   ]
  },
  {
   "cell_type": "markdown",
   "id": "84a3919b",
   "metadata": {},
   "source": [
    "• 함수란?\n",
    "\n",
    "- 이름을 붙여 반복적으로 사용할 수 있는 프로그램 부분\n",
    "\n",
    "- print(), input(), int(), str() 등\n",
    "\n",
    "• 함수를 사용하는 이유\n",
    "\n",
    "- 프로그램 안에서 중복된 코드를 제거한다.\n",
    "\n",
    "- 복잡한 프로그래밍 작업을 더 간단한 작업들로 분해할 수 있다.\n",
    "\n",
    "- 함수는 한번 만들어지면 다른 프로그램에서도 재사용될 수 있다.\n",
    "\n",
    "- 함수를 사용하면 가독성(프로그램의 이해)이 증대되고, 유지 관리도 쉬워진다.\n",
    "\n",
    "• 파이썬의 함수는 일급 함수이다. 함수를 변수처럼 사용\n",
    "\n",
    "- 변수에 할당: a = func\n",
    "\n",
    "- 다른 함수의 인자로 전달 가능: func1(func)\n",
    "\n",
    "- return 문으로 반환 가능: return func\n",
    "\n",
    "• 함수의 종류\n",
    "\n",
    "- 내장 함수\n",
    "\n",
    "- 사용자 정의 함수\n"
   ]
  },
  {
   "cell_type": "markdown",
   "id": "9d4f70d5",
   "metadata": {},
   "source": [
    "#### 함수 정의와 호출 예"
   ]
  },
  {
   "cell_type": "code",
   "execution_count": 1,
   "id": "eef3ba49",
   "metadata": {},
   "outputs": [
    {
     "name": "stdout",
     "output_type": "stream",
     "text": [
      "Hello,  John\n"
     ]
    }
   ],
   "source": [
    "def welcome(name) : \n",
    "    print(\"Hello, \", name) \n",
    "    \n",
    "welcome('John') "
   ]
  },
  {
   "cell_type": "code",
   "execution_count": 2,
   "id": "cde5fa9e",
   "metadata": {},
   "outputs": [
    {
     "name": "stdout",
     "output_type": "stream",
     "text": [
      "1275\n",
      "500500\n"
     ]
    }
   ],
   "source": [
    "def sum(n):\n",
    "    hab = 0\n",
    "    for i in range(1, n+1): \n",
    "        hab = hab + i \n",
    "    return hab\n",
    "\n",
    "a = sum(50)\n",
    "b = sum(1000)\n",
    "print(a)\n",
    "print(b)"
   ]
  },
  {
   "cell_type": "markdown",
   "id": "4cfc9398",
   "metadata": {},
   "source": [
    "fstream"
   ]
  },
  {
   "cell_type": "code",
   "execution_count": null,
   "id": "23029ec9",
   "metadata": {},
   "outputs": [],
   "source": [
    ">>> sum = lambda x, y : x + y\n",
    ">>> sum(1,2)\n",
    "3\n",
    ">>> sum2 = sum\n",
    ">>> sum2(1,2)\n",
    "3"
   ]
  },
  {
   "cell_type": "markdown",
   "id": "12679137",
   "metadata": {},
   "source": [
    "### 내장함수"
   ]
  },
  {
   "cell_type": "markdown",
   "id": "907b7d13",
   "metadata": {},
   "source": [
    "#### eval"
   ]
  },
  {
   "cell_type": "code",
   "execution_count": null,
   "id": "c81a54c0",
   "metadata": {},
   "outputs": [],
   "source": [
    ">>> n = 1\n",
    ">>> m = 2\n",
    ">>> eval('n+m')\n",
    "3"
   ]
  },
  {
   "cell_type": "markdown",
   "id": "1cd9d178",
   "metadata": {},
   "source": [
    "#### int -> bin, oct, hex"
   ]
  },
  {
   "cell_type": "code",
   "execution_count": null,
   "id": "7345bc03",
   "metadata": {},
   "outputs": [],
   "source": [
    ">>> int('1010', 16)\n",
    "4112\n",
    ">>> int('1010', 10)\n",
    "1010\n",
    ">>> hex(int('1010', 16))\n",
    "'0x1010'"
   ]
  },
  {
   "cell_type": "markdown",
   "id": "fde4037b",
   "metadata": {},
   "source": [
    "#### filter 함수"
   ]
  },
  {
   "cell_type": "code",
   "execution_count": null,
   "id": "07a00333",
   "metadata": {},
   "outputs": [],
   "source": [
    ">>> list(filter(lambda x: len(x)>2, ['this', 'is', 'a', 'test']))\n",
    "['this', 'test']"
   ]
  },
  {
   "cell_type": "code",
   "execution_count": null,
   "id": "9686377e",
   "metadata": {},
   "outputs": [],
   "source": [
    ">>> list = ['this', 'is', 'a', 'test']\n",
    ">>> def mylen(str):\n",
    "...     return len(str)\n",
    "... \n",
    ">>> mylen('hello')\n",
    "5"
   ]
  },
  {
   "cell_type": "markdown",
   "id": "5fa689f4",
   "metadata": {},
   "source": []
  }
 ],
 "metadata": {
  "kernelspec": {
   "display_name": "Python 3",
   "language": "python",
   "name": "python3"
  },
  "language_info": {
   "codemirror_mode": {
    "name": "ipython",
    "version": 3
   },
   "file_extension": ".py",
   "mimetype": "text/x-python",
   "name": "python",
   "nbconvert_exporter": "python",
   "pygments_lexer": "ipython3",
   "version": "3.13.7"
  }
 },
 "nbformat": 4,
 "nbformat_minor": 5
}
