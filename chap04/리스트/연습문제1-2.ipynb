{
 "cells": [
  {
   "cell_type": "markdown",
   "id": "0beb8b54",
   "metadata": {},
   "source": [
    "## 리스트_연습문제 1-2\n",
    "\n",
    "문제: 리스트[1, 2, 3]에 대해 다음과같은처리를하라\n",
    "\n",
    "날짜: 2025.9.16\n",
    "\n",
    "학과: 컴퓨터공학과\n",
    "\n",
    "학번: 202210558\n",
    "\n",
    "저자: 박로사"
   ]
  },
  {
   "cell_type": "code",
   "execution_count": 1,
   "id": "4c2a89d7",
   "metadata": {},
   "outputs": [
    {
     "name": "stdout",
     "output_type": "stream",
     "text": [
      "초기 리스트: [1, 2, 3]\n",
      "두 번째 요소를 17로 수정 후: [1, 17, 3]\n",
      "4, 5, 6 추가 후: [1, 17, 3, 4, 5, 6]\n",
      "첫 번째 요소 제거 후: [17, 3, 4, 5, 6]\n",
      "정렬 후: [3, 4, 5, 6, 17]\n",
      "인덱스 3에 25 삽입 후: [3, 4, 5, 25, 6, 17]\n"
     ]
    }
   ],
   "source": [
    "# 리스트\n",
    "lst = [1, 2, 3]\n",
    "print(\"초기 리스트:\", lst)\n",
    "\n",
    "# 두 번째 요소를 17로 수정 (인덱스 1)\n",
    "lst[1] = 17\n",
    "print(\"두 번째 요소를 17로 수정 후:\", lst)\n",
    "\n",
    "# 리스트에 4, 5, 6 추가\n",
    "lst.extend([4, 5, 6])\n",
    "print(\"4, 5, 6 추가 후:\", lst)\n",
    "\n",
    "# 첫 번째 요소 제거\n",
    "del lst[0]\n",
    "print(\"첫 번째 요소 제거 후:\", lst)\n",
    "\n",
    "# 리스트를 오름차순으로 정렬\n",
    "lst.sort()\n",
    "print(\"정렬 후:\", lst)\n",
    "\n",
    "# 인덱스 3에 25 넣기\n",
    "lst.insert(3, 25)\n",
    "print(\"인덱스 3에 25 삽입 후:\", lst)\n"
   ]
  }
 ],
 "metadata": {
  "kernelspec": {
   "display_name": "Python 3",
   "language": "python",
   "name": "python3"
  },
  "language_info": {
   "codemirror_mode": {
    "name": "ipython",
    "version": 3
   },
   "file_extension": ".py",
   "mimetype": "text/x-python",
   "name": "python",
   "nbconvert_exporter": "python",
   "pygments_lexer": "ipython3",
   "version": "3.13.7"
  }
 },
 "nbformat": 4,
 "nbformat_minor": 5
}
