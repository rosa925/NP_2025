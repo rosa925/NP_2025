{
 "cells": [
  {
   "cell_type": "markdown",
   "id": "05935bdd",
   "metadata": {},
   "source": [
    "## 클래스_연습문제 3\n",
    "\n",
    "문제: Moneybox 클래스를작성하라. 이클래스는저축한총액을저장하는인스턴스변수가있다.\n",
    "\n",
    "deposit(money) 메서드는 인수로 주어진금액만큼저축하고총액을출력한다, extract(money) 메소드는 money를 인출하고 총액을 출력한다.\n",
    "\n",
    "get_total() 메소드는 총액을 알려준다.\n",
    "\n",
    "my_money = Moneybox() 객체를 생성하고 1000원을 저축하고, 200원을 인출한다음, 총액을 출력하라.\n",
    "\n",
    "날짜: 2025.9.29\n",
    "\n",
    "학과: 컴퓨터공학과\n",
    "\n",
    "학번: 202210558\n",
    "\n",
    "저자: 박로사"
   ]
  },
  {
   "cell_type": "code",
   "execution_count": 1,
   "id": "7413eaa5",
   "metadata": {},
   "outputs": [
    {
     "name": "stdout",
     "output_type": "stream",
     "text": [
      "저축 후 총액: 1000원\n",
      "인출 후 총액: 800원\n",
      "최종 총액: 800원\n"
     ]
    }
   ],
   "source": [
    "class Moneybox:\n",
    "    def __init__(self):\n",
    "        self.total = 0\n",
    "\n",
    "    def deposit(self, money):\n",
    "        self.total += money\n",
    "        print(f\"저축 후 총액: {self.total}원\")\n",
    "\n",
    "    def extract(self, money):\n",
    "        self.total -= money\n",
    "        print(f\"인출 후 총액: {self.total}원\")\n",
    "\n",
    "    def get_total(self):\n",
    "        return self.total\n",
    "\n",
    "\n",
    "# 테스트\n",
    "if __name__ == \"__main__\":\n",
    "    my_money = Moneybox()\n",
    "    my_money.deposit(1000)\n",
    "    my_money.extract(200)\n",
    "    print(f\"최종 총액: {my_money.get_total()}원\")\n"
   ]
  }
 ],
 "metadata": {
  "kernelspec": {
   "display_name": "Python 3",
   "language": "python",
   "name": "python3"
  },
  "language_info": {
   "codemirror_mode": {
    "name": "ipython",
    "version": 3
   },
   "file_extension": ".py",
   "mimetype": "text/x-python",
   "name": "python",
   "nbconvert_exporter": "python",
   "pygments_lexer": "ipython3",
   "version": "3.13.7"
  }
 },
 "nbformat": 4,
 "nbformat_minor": 5
}
