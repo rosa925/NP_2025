{
 "cells": [
  {
   "cell_type": "markdown",
   "id": "57135e3c",
   "metadata": {},
   "source": [
    "## 3장 노트정리\n",
    "\n",
    "이 파일은 3장 학습하면서 실행한 내용을 정리한 것이다.\n",
    "\n",
    "날짜: 2025.9.16\n",
    "\n",
    "학과: 컴퓨터공학과\n",
    "\n",
    "학번: 202210558\n",
    "\n",
    "저자: 박로사"
   ]
  },
  {
   "cell_type": "markdown",
   "id": "7292ecfa",
   "metadata": {},
   "source": [
    "### 프로그램 제어문"
   ]
  },
  {
   "cell_type": "markdown",
   "id": "dfeaf262",
   "metadata": {},
   "source": [
    "제어문: 프로그램의실행순서를바꾸는문장"
   ]
  },
  {
   "cell_type": "markdown",
   "id": "63bb3456",
   "metadata": {},
   "source": [
    "### 조건문"
   ]
  },
  {
   "cell_type": "markdown",
   "id": "975a54d7",
   "metadata": {},
   "source": [
    "#### if 문"
   ]
  },
  {
   "cell_type": "markdown",
   "id": "5cc33534",
   "metadata": {},
   "source": [
    "조건을 만족할 때 문장 블록을 진행\n",
    "\n",
    "조건이참(True)이면 블록을 실행하고 아니면 블록을건너뛴다"
   ]
  },
  {
   "cell_type": "code",
   "execution_count": 2,
   "id": "62e43e03",
   "metadata": {},
   "outputs": [],
   "source": [
    "score = int(input(\"정수 입력:\"))\n",
    "if score >= 90 : #if문 끝에 :을 붙인다\n",
    "    print(\"성적 : A\") #들여쓰기\n",
    "    print(\"장학금 수여\")\n",
    "\n",
    "age_0 = 22\n",
    "age_1 = 18\n",
    "age = int(input('your age? '))\n",
    "if age < age_0 and age > age_1: #복합 조건문\n",
    "    print(\"당신의 나이는 18~22세 사이입니다\")"
   ]
  },
  {
   "cell_type": "markdown",
   "id": "47367a3b",
   "metadata": {},
   "source": [
    "#### if-else 문"
   ]
  },
  {
   "cell_type": "markdown",
   "id": "83398637",
   "metadata": {},
   "source": [
    "조건이참(True)이면 Block1을 실행하고 else: 는 무시\n",
    "\n",
    "참(True)이 아니면 else: 다음 Block2를 실행"
   ]
  },
  {
   "cell_type": "code",
   "execution_count": 3,
   "id": "85d53b4e",
   "metadata": {},
   "outputs": [
    {
     "name": "stdout",
     "output_type": "stream",
     "text": [
      "fail\n"
     ]
    }
   ],
   "source": [
    "if score >= 90 :\n",
    "    print(\"pass\")\n",
    "else : #else도 끝에 :을 붙인다\n",
    "    print(\"fail\") #들여쓰기"
   ]
  },
  {
   "cell_type": "markdown",
   "id": "b937a4e4",
   "metadata": {},
   "source": [
    "#### 중첩if 문-if 문속에또다른if 문"
   ]
  },
  {
   "cell_type": "code",
   "execution_count": 4,
   "id": "b20037d2",
   "metadata": {},
   "outputs": [
    {
     "name": "stdout",
     "output_type": "stream",
     "text": [
      "positive\n"
     ]
    }
   ],
   "source": [
    "n = int(input(\"type intnumber : \"))\n",
    "if n > 0 :\n",
    "    print(\"positive\")\n",
    "else:\n",
    "    if n < 0 :\n",
    "        print(\"negative\")\n",
    "    else:\n",
    "        print(\"0\")"
   ]
  },
  {
   "cell_type": "code",
   "execution_count": 6,
   "id": "7ed817bf",
   "metadata": {},
   "outputs": [
    {
     "name": "stdout",
     "output_type": "stream",
     "text": [
      "positive\n"
     ]
    }
   ],
   "source": [
    "n = int(input(\"type intnumber : \"))\n",
    "if n >= 0 :\n",
    "    if n == 0 :\n",
    "        print(\"0\")\n",
    "    else:\n",
    "        print(\"positive\")\n",
    "else:\n",
    "    print(\"negative\")"
   ]
  },
  {
   "cell_type": "markdown",
   "id": "12653d6e",
   "metadata": {},
   "source": [
    "#### if-elif-else 문"
   ]
  },
  {
   "cell_type": "markdown",
   "id": "d6438eb3",
   "metadata": {},
   "source": [
    "if 조건1이 참이면 블록1, if 조건1이 거짓이고 elif 조건2이 참이면 블록2, 조건이 모두 거짓이면 블록3이 실행된다"
   ]
  },
  {
   "cell_type": "code",
   "execution_count": 7,
   "id": "1a777029",
   "metadata": {},
   "outputs": [
    {
     "name": "stdout",
     "output_type": "stream",
     "text": [
      "positive\n"
     ]
    }
   ],
   "source": [
    "n = int(input(\"type int number : \"))\n",
    "if n > 0 :\n",
    "    print(\"positive\")\n",
    "elif n < 0 :\n",
    "    print(\"negative\")\n",
    "else :\n",
    "    print(\"0\")"
   ]
  },
  {
   "cell_type": "markdown",
   "id": "d3c81cf1",
   "metadata": {},
   "source": []
  }
 ],
 "metadata": {
  "kernelspec": {
   "display_name": "Python 3",
   "language": "python",
   "name": "python3"
  },
  "language_info": {
   "codemirror_mode": {
    "name": "ipython",
    "version": 3
   },
   "file_extension": ".py",
   "mimetype": "text/x-python",
   "name": "python",
   "nbconvert_exporter": "python",
   "pygments_lexer": "ipython3",
   "version": "3.13.7"
  }
 },
 "nbformat": 4,
 "nbformat_minor": 5
}
