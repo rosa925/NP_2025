{
 "cells": [
  {
   "cell_type": "markdown",
   "id": "21bb19fe",
   "metadata": {},
   "source": [
    "## 2장 노트정리\n",
    "\n",
    "이 파일은 2장 학습하면서 실행한 내용을 정리한 것이다.\n",
    "\n",
    "날짜: 2025.9.9\n",
    "\n",
    "저자: 박로사"
   ]
  },
  {
   "cell_type": "code",
   "execution_count": 3,
   "id": "86add9e8",
   "metadata": {},
   "outputs": [
    {
     "name": "stdout",
     "output_type": "stream",
     "text": [
      "Hello, 여러분!\n"
     ]
    }
   ],
   "source": [
    "print(\"Hello, 여러분!\")"
   ]
  },
  {
   "cell_type": "code",
   "execution_count": 2,
   "id": "a86a2335",
   "metadata": {},
   "outputs": [
    {
     "name": "stdout",
     "output_type": "stream",
     "text": [
      "x = 3\n"
     ]
    }
   ],
   "source": [
    "x = 3\n",
    "print(f\"x = {x}\")"
   ]
  },
  {
   "cell_type": "code",
   "execution_count": 4,
   "id": "2ab8edeb",
   "metadata": {},
   "outputs": [
    {
     "name": "stdout",
     "output_type": "stream",
     "text": [
      "30\n",
      "동양미래대학교\n",
      "abc abc abc \n"
     ]
    }
   ],
   "source": [
    "print(10+20)\n",
    "print(\"동양미래대학교\")\n",
    "print(\"abc \" * 3)"
   ]
  },
  {
   "cell_type": "code",
   "execution_count": 6,
   "id": "040095f8",
   "metadata": {},
   "outputs": [
    {
     "name": "stdout",
     "output_type": "stream",
     "text": [
      "25 32\n",
      "25 + 32 = 57\n"
     ]
    }
   ],
   "source": [
    "x = 25\n",
    "y = 32\n",
    "z = x + y\n",
    "\n",
    "print(x, y)\n",
    "print(x, '+', y, '=', z)"
   ]
  }
 ],
 "metadata": {
  "kernelspec": {
   "display_name": "Python 3",
   "language": "python",
   "name": "python3"
  },
  "language_info": {
   "codemirror_mode": {
    "name": "ipython",
    "version": 3
   },
   "file_extension": ".py",
   "mimetype": "text/x-python",
   "name": "python",
   "nbconvert_exporter": "python",
   "pygments_lexer": "ipython3",
   "version": "3.13.7"
  }
 },
 "nbformat": 4,
 "nbformat_minor": 5
}
