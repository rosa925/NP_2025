{
 "cells": [
  {
   "cell_type": "markdown",
   "id": "05935bdd",
   "metadata": {},
   "source": [
    "## 집합_연습문제 1\n",
    "\n",
    "문제: 1부터 45까지의 수 중에서 6개를 선택하여 로또번호를 만드는 프로그램\n",
    "\n",
    "날짜: 2025.9.16\n",
    "\n",
    "학과: 컴퓨터공학과\n",
    "\n",
    "학번: 202210558\n",
    "\n",
    "저자: 박로사"
   ]
  },
  {
   "cell_type": "code",
   "execution_count": 1,
   "id": "7413eaa5",
   "metadata": {},
   "outputs": [
    {
     "name": "stdout",
     "output_type": "stream",
     "text": [
      "랜덤 로또 번호 (집합): {36, 7, 10, 44, 12, 15}\n",
      "정렬된 로또 번호: [7, 10, 12, 15, 36, 44]\n"
     ]
    }
   ],
   "source": [
    "import random\n",
    "\n",
    "# 1) 비어 있는 집합 생성 (중복 방지)\n",
    "pick = set()\n",
    "\n",
    "# 2) 집합의 길이가 6이 될 때까지 반복\n",
    "while len(pick) < 6:\n",
    "    n = random.randint(1, 45)  # 1~45 사이 랜덤 정수 생성\n",
    "    pick.add(n)  # 집합은 중복 허용 X → 자동으로 중복 제거\n",
    "\n",
    "# 3) 결과 출력\n",
    "print(\"랜덤 로또 번호 (집합):\", pick)\n",
    "print(\"정렬된 로또 번호:\", sorted(pick))\n"
   ]
  }
 ],
 "metadata": {
  "kernelspec": {
   "display_name": "Python 3",
   "language": "python",
   "name": "python3"
  },
  "language_info": {
   "codemirror_mode": {
    "name": "ipython",
    "version": 3
   },
   "file_extension": ".py",
   "mimetype": "text/x-python",
   "name": "python",
   "nbconvert_exporter": "python",
   "pygments_lexer": "ipython3",
   "version": "3.13.7"
  }
 },
 "nbformat": 4,
 "nbformat_minor": 5
}
