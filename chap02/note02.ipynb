{
 "cells": [
  {
   "cell_type": "markdown",
   "id": "21bb19fe",
   "metadata": {},
   "source": [
    "## 2장 노트정리\n",
    "\n",
    "이 파일은 2장 학습하면서 실행한 내용을 정리한 것이다.\n",
    "\n",
    "날짜: 2025.9.9\n",
    "\n",
    "학과: 컴퓨터공학과\n",
    "\n",
    "학번: 202210558\n",
    "\n",
    "저자: 박로사"
   ]
  },
  {
   "cell_type": "code",
   "execution_count": null,
   "id": "86add9e8",
   "metadata": {},
   "outputs": [
    {
     "name": "stdout",
     "output_type": "stream",
     "text": [
      "Hello, 여러분!\n"
     ]
    }
   ],
   "source": [
    "print(\"Hello, 여러분!\")"
   ]
  },
  {
   "cell_type": "code",
   "execution_count": 2,
   "id": "a86a2335",
   "metadata": {},
   "outputs": [
    {
     "name": "stdout",
     "output_type": "stream",
     "text": [
      "x = 3\n"
     ]
    }
   ],
   "source": [
    "x = 3\n",
    "print(f\"x = {x}\")"
   ]
  },
  {
   "cell_type": "markdown",
   "id": "5a40b097",
   "metadata": {},
   "source": [
    "## 기본 입출력 함수"
   ]
  },
  {
   "cell_type": "code",
   "execution_count": null,
   "id": "2ab8edeb",
   "metadata": {},
   "outputs": [
    {
     "name": "stdout",
     "output_type": "stream",
     "text": [
      "30\n",
      "동양미래대학교\n",
      "abc abc abc \n"
     ]
    }
   ],
   "source": [
    "print(10+20) # ()속의 연산 결과 출력\n",
    "print(\"동양미래대학교\") # 문자열 출력\n",
    "print(\"abc \" * 3) # 문자열 3번 출력"
   ]
  },
  {
   "cell_type": "code",
   "execution_count": 7,
   "id": "040095f8",
   "metadata": {},
   "outputs": [
    {
     "name": "stdout",
     "output_type": "stream",
     "text": [
      "25 32\n",
      "25 + 32 = 57\n"
     ]
    }
   ],
   "source": [
    "x = 25\n",
    "y = 32\n",
    "z = x + y\n",
    "\n",
    "print(x, y) # 변수 x, y 값 출력\n",
    "print(x, '+', y, '=', z) # 문자열과 변수의 조합 출력"
   ]
  },
  {
   "cell_type": "code",
   "execution_count": null,
   "id": "3a716ef1",
   "metadata": {},
   "outputs": [
    {
     "name": "stdout",
     "output_type": "stream",
     "text": [
      "10\n",
      "1.200000\n",
      "cat\n",
      "p\n",
      "a\n",
      "10\n"
     ]
    }
   ],
   "source": [
    "print(\"%d\" %10) # 10진수 정수 출력\n",
    "print(\"%f\" %1.2) # 실수 출력\n",
    "print(\"%s\" %\"cat\") # 문자열 출력\n",
    "print(\"%c\" %\"p\") # 한 글자 출력\n",
    "print(\"%x\" %10) # 16진수 정수 출력\n",
    "print(\"%o\" %8) # 8진수 정수 출력"
   ]
  },
  {
   "cell_type": "code",
   "execution_count": 10,
   "id": "88e3a807",
   "metadata": {},
   "outputs": [
    {
     "data": {
      "text/plain": [
       "bool"
      ]
     },
     "execution_count": 10,
     "metadata": {},
     "output_type": "execute_result"
    }
   ],
   "source": [
    "a = True\n",
    "type (a)\n",
    "# <class 'bool'>"
   ]
  },
  {
   "cell_type": "code",
   "execution_count": 3,
   "id": "f6e9f823",
   "metadata": {},
   "outputs": [],
   "source": [
    "## input 함수\n",
    "n = input('type a number: ')\n",
    "\n",
    "## n = str(3) <- 정수를 문자열로 변환"
   ]
  },
  {
   "cell_type": "code",
   "execution_count": 5,
   "id": "db33b9b4",
   "metadata": {},
   "outputs": [
    {
     "name": "stdout",
     "output_type": "stream",
     "text": [
      "Hello, rosa\n"
     ]
    }
   ],
   "source": [
    "## 문자열을 입력 받아 다른 문자열과 결합하여 출력\n",
    "name = input('Name: ')\n",
    "print(\"Hello, \"+ name)"
   ]
  },
  {
   "cell_type": "code",
   "execution_count": null,
   "id": "c4a2ce51",
   "metadata": {},
   "outputs": [
    {
     "name": "stdout",
     "output_type": "stream",
     "text": [
      "6\n"
     ]
    }
   ],
   "source": [
    "## 두 정수를 입력 받아 곱셈 결과 출력\n",
    "a = int(input('Number 1: ')) # 문자열을 입력한 후 정수로 변환\n",
    "b = int(input('Number 2: '))\n",
    "print(a * b)"
   ]
  },
  {
   "cell_type": "code",
   "execution_count": 7,
   "id": "c427cce9",
   "metadata": {},
   "outputs": [
    {
     "name": "stdout",
     "output_type": "stream",
     "text": [
      "화씨온도는 73.4\n"
     ]
    }
   ],
   "source": [
    "## 섭씨온도(C)를 입력 받아 화씨온도(F)로 바꾸어 출력\n",
    "C = float(input(\"Type 섭씨온도 : \")) # 입력 문자열을 실수로 변환\n",
    "F = C*9/5 + 32 #온도 변환\n",
    "print(\"화씨온도는\", F)"
   ]
  },
  {
   "cell_type": "code",
   "execution_count": null,
   "id": "ff1ea3dc",
   "metadata": {},
   "outputs": [],
   "source": []
  }
 ],
 "metadata": {
  "kernelspec": {
   "display_name": "Python 3",
   "language": "python",
   "name": "python3"
  },
  "language_info": {
   "codemirror_mode": {
    "name": "ipython",
    "version": 3
   },
   "file_extension": ".py",
   "mimetype": "text/x-python",
   "name": "python",
   "nbconvert_exporter": "python",
   "pygments_lexer": "ipython3",
   "version": "3.13.7"
  }
 },
 "nbformat": 4,
 "nbformat_minor": 5
}
