{
 "cells": [
  {
   "cell_type": "markdown",
   "id": "57135e3c",
   "metadata": {},
   "source": [
    "## 3장 노트정리\n",
    "\n",
    "이 파일은 3장 학습하면서 실행한 내용을 정리한 것이다.\n",
    "\n",
    "날짜: 2025.9.16\n",
    "\n",
    "학과: 컴퓨터공학과\n",
    "\n",
    "학번: 202210558\n",
    "\n",
    "저자: 박로사"
   ]
  },
  {
   "cell_type": "markdown",
   "id": "7292ecfa",
   "metadata": {},
   "source": [
    "### 프로그램 제어문"
   ]
  },
  {
   "cell_type": "markdown",
   "id": "dfeaf262",
   "metadata": {},
   "source": [
    "제어문: 프로그램의실행순서를바꾸는문장"
   ]
  },
  {
   "cell_type": "markdown",
   "id": "63bb3456",
   "metadata": {},
   "source": [
    "### 조건문"
   ]
  },
  {
   "cell_type": "markdown",
   "id": "975a54d7",
   "metadata": {},
   "source": [
    "#### if 문"
   ]
  },
  {
   "cell_type": "markdown",
   "id": "5cc33534",
   "metadata": {},
   "source": [
    "조건을 만족할 때 문장 블록을 진행\n",
    "\n",
    "조건이참(True)이면 블록을 실행하고 아니면 블록을건너뛴다"
   ]
  },
  {
   "cell_type": "code",
   "execution_count": 2,
   "id": "62e43e03",
   "metadata": {},
   "outputs": [],
   "source": [
    "score = int(input(\"정수 입력:\"))\n",
    "if score >= 90 : #if문 끝에 :을 붙인다\n",
    "    print(\"성적 : A\") #들여쓰기\n",
    "    print(\"장학금 수여\")\n",
    "\n",
    "age_0 = 22\n",
    "age_1 = 18\n",
    "age = int(input('your age? '))\n",
    "if age < age_0 and age > age_1: #복합 조건문\n",
    "    print(\"당신의 나이는 18~22세 사이입니다\")"
   ]
  },
  {
   "cell_type": "markdown",
   "id": "47367a3b",
   "metadata": {},
   "source": [
    "#### if-else 문"
   ]
  },
  {
   "cell_type": "markdown",
   "id": "83398637",
   "metadata": {},
   "source": [
    "조건이참(True)이면 Block1을 실행하고 else: 는 무시\n",
    "\n",
    "참(True)이 아니면 else: 다음 Block2를 실행"
   ]
  },
  {
   "cell_type": "code",
   "execution_count": 3,
   "id": "85d53b4e",
   "metadata": {},
   "outputs": [
    {
     "name": "stdout",
     "output_type": "stream",
     "text": [
      "fail\n"
     ]
    }
   ],
   "source": [
    "if score >= 90 :\n",
    "    print(\"pass\")\n",
    "else : #else도 끝에 :을 붙인다\n",
    "    print(\"fail\") #들여쓰기"
   ]
  },
  {
   "cell_type": "markdown",
   "id": "b937a4e4",
   "metadata": {},
   "source": [
    "#### 중첩if 문-if 문속에또다른if 문"
   ]
  },
  {
   "cell_type": "code",
   "execution_count": 4,
   "id": "b20037d2",
   "metadata": {},
   "outputs": [
    {
     "name": "stdout",
     "output_type": "stream",
     "text": [
      "positive\n"
     ]
    }
   ],
   "source": [
    "n = int(input(\"type intnumber : \"))\n",
    "if n > 0 :\n",
    "    print(\"positive\")\n",
    "else:\n",
    "    if n < 0 :\n",
    "        print(\"negative\")\n",
    "    else:\n",
    "        print(\"0\")"
   ]
  },
  {
   "cell_type": "code",
   "execution_count": 6,
   "id": "7ed817bf",
   "metadata": {},
   "outputs": [
    {
     "name": "stdout",
     "output_type": "stream",
     "text": [
      "positive\n"
     ]
    }
   ],
   "source": [
    "n = int(input(\"type intnumber : \"))\n",
    "if n >= 0 :\n",
    "    if n == 0 :\n",
    "        print(\"0\")\n",
    "    else:\n",
    "        print(\"positive\")\n",
    "else:\n",
    "    print(\"negative\")"
   ]
  },
  {
   "cell_type": "markdown",
   "id": "12653d6e",
   "metadata": {},
   "source": [
    "#### if-elif-else 문"
   ]
  },
  {
   "cell_type": "markdown",
   "id": "d6438eb3",
   "metadata": {},
   "source": [
    "if 조건1이 참이면 블록1, if 조건1이 거짓이고 elif 조건2이 참이면 블록2, 조건이 모두 거짓이면 블록3이 실행된다"
   ]
  },
  {
   "cell_type": "code",
   "execution_count": 7,
   "id": "1a777029",
   "metadata": {},
   "outputs": [
    {
     "name": "stdout",
     "output_type": "stream",
     "text": [
      "positive\n"
     ]
    }
   ],
   "source": [
    "n = int(input(\"type int number : \"))\n",
    "if n > 0 :\n",
    "    print(\"positive\")\n",
    "elif n < 0 :\n",
    "    print(\"negative\")\n",
    "else :\n",
    "    print(\"0\")"
   ]
  },
  {
   "cell_type": "markdown",
   "id": "d3c81cf1",
   "metadata": {},
   "source": [
    "#### 다중 elif 문\n",
    "•여러개의 elif를 사용한 문장\n",
    "\n",
    "• if 또는 elif 조건 중 하나만 충족되면 나머지는 무시"
   ]
  },
  {
   "cell_type": "code",
   "execution_count": 8,
   "id": "409dac12",
   "metadata": {},
   "outputs": [
    {
     "name": "stdout",
     "output_type": "stream",
     "text": [
      "Your admission cost is $5.\n"
     ]
    }
   ],
   "source": [
    "age = 12\n",
    "if age < 4:\n",
    "    price = 0\n",
    "elif age < 18:\n",
    "    price = 5\n",
    "elif age < 65:\n",
    "    price = 10\n",
    "else:\n",
    "    price = 5\n",
    " \n",
    "print(\"Your admission cost is $\" + str(price) + \".\")"
   ]
  },
  {
   "cell_type": "markdown",
   "id": "f079084b",
   "metadata": {},
   "source": [
    "### While 반복문"
   ]
  },
  {
   "cell_type": "markdown",
   "id": "708b8a7f",
   "metadata": {},
   "source": [
    "조건이 충족되면 동일한 일을 반복수행\n",
    "\n",
    "• 조건이 만족되면 블록을 실행하고 다시 조건을 조사\n",
    "\n",
    "• 조건이 만족되지 않으면 다음 문장 실행"
   ]
  },
  {
   "cell_type": "code",
   "execution_count": 11,
   "id": "6b113297",
   "metadata": {},
   "outputs": [
    {
     "name": "stdout",
     "output_type": "stream",
     "text": [
      "sum= 100\n"
     ]
    }
   ],
   "source": [
    "i = 1\n",
    "sum = 0\n",
    "while i <= 100 :\n",
    "    sum = sum + 1\n",
    "    i = i + 1\n",
    "    \n",
    "print(\"sum=\", sum)"
   ]
  },
  {
   "cell_type": "markdown",
   "id": "bd548d08",
   "metadata": {},
   "source": [
    "### for 제어문"
   ]
  },
  {
   "cell_type": "markdown",
   "id": "424f1ff8",
   "metadata": {},
   "source": [
    "#### for 문"
   ]
  },
  {
   "cell_type": "markdown",
   "id": "2f62dcd1",
   "metadata": {},
   "source": [
    "• [반복객체]의 각 요소의 값을 하나씩 [변수]에 저장하고 블록을 실행\n",
    "\n",
    "• [반복객체]에 더 이상의 요소가 없을때까지 반복\n",
    "\n",
    "• 튜플, 문자열과 같은 복객체를 사용할 수 도있다."
   ]
  },
  {
   "cell_type": "code",
   "execution_count": 13,
   "id": "b97d451b",
   "metadata": {},
   "outputs": [
    {
     "name": "stdout",
     "output_type": "stream",
     "text": [
      "숫자 1\n",
      "숫자 2\n",
      "숫자 3\n",
      "숫자 1\n",
      "숫자 2\n",
      "숫자 3\n",
      "h\n",
      "e\n",
      "l\n",
      "l\n",
      "o\n"
     ]
    }
   ],
   "source": [
    "for i in [1, 2, 3] :\n",
    "    print(\"숫자\", i)\n",
    "    \n",
    "for i in (1, 2, 3) :\n",
    "    print(\"숫자\", i)\n",
    "    \n",
    "for i in 'hello' :\n",
    "    print(i)"
   ]
  },
  {
   "cell_type": "markdown",
   "id": "cef44890",
   "metadata": {},
   "source": [
    "#### for-range 문"
   ]
  },
  {
   "cell_type": "markdown",
   "id": "fc86fddf",
   "metadata": {},
   "source": [
    "• range() 함수는 반복 객체 (iterable)를 생성하는 함수\n",
    "\n",
    "-range(start, stop, step)\n",
    "\n",
    "-예) list(range(1,5,1)) → [1,2,3,4]\n",
    "\n",
    "• 변수값을 start부터 시작하여 step 만큼 증가시키며 stop될 때까지 실행. step=1이면 생략"
   ]
  },
  {
   "cell_type": "code",
   "execution_count": 14,
   "id": "0e380112",
   "metadata": {},
   "outputs": [
    {
     "name": "stdout",
     "output_type": "stream",
     "text": [
      "Number 1\n",
      "Number 2\n",
      "Number 3\n"
     ]
    }
   ],
   "source": [
    "for i in range(1, 4, 1) : #1부터 시작하여 1씩 증가하여 4가 되면 종료\n",
    "    print(\"Number\", i)"
   ]
  },
  {
   "cell_type": "markdown",
   "id": "a722ef46",
   "metadata": {},
   "source": [
    "#### for 문을이용한1부터100까지의합구하기"
   ]
  },
  {
   "cell_type": "code",
   "execution_count": 15,
   "id": "5628d76d",
   "metadata": {},
   "outputs": [
    {
     "name": "stdout",
     "output_type": "stream",
     "text": [
      "sum =  5050\n"
     ]
    }
   ],
   "source": [
    "sum = 0\n",
    "for i in range(1, 101, 1) :\n",
    "    sum = sum + i\n",
    "\n",
    "print(\"sum = \", sum)"
   ]
  },
  {
   "cell_type": "markdown",
   "id": "3993d6d3",
   "metadata": {},
   "source": [
    "#### x^n을구하는프로그램"
   ]
  },
  {
   "cell_type": "code",
   "execution_count": 16,
   "id": "161bca6a",
   "metadata": {},
   "outputs": [
    {
     "name": "stdout",
     "output_type": "stream",
     "text": [
      "9.0\n"
     ]
    }
   ],
   "source": [
    "x = float(input('Type x : '))\n",
    "n = int(input('Type n : '))\n",
    "\n",
    "prod = 1\n",
    "for i in range(1, n+1):\n",
    "    prod = prod * x\n",
    "\n",
    "print(prod)"
   ]
  },
  {
   "cell_type": "markdown",
   "id": "8c15221a",
   "metadata": {},
   "source": [
    "#### 중첩 반복문"
   ]
  },
  {
   "cell_type": "markdown",
   "id": "dd52f00d",
   "metadata": {},
   "source": [
    "#### 무한 반복문"
   ]
  },
  {
   "cell_type": "markdown",
   "id": "c9d469e9",
   "metadata": {},
   "source": []
  }
 ],
 "metadata": {
  "kernelspec": {
   "display_name": "Python 3",
   "language": "python",
   "name": "python3"
  },
  "language_info": {
   "codemirror_mode": {
    "name": "ipython",
    "version": 3
   },
   "file_extension": ".py",
   "mimetype": "text/x-python",
   "name": "python",
   "nbconvert_exporter": "python",
   "pygments_lexer": "ipython3",
   "version": "3.13.7"
  }
 },
 "nbformat": 4,
 "nbformat_minor": 5
}
