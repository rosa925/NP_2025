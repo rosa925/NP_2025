{
 "cells": [
  {
   "cell_type": "markdown",
   "id": "05935bdd",
   "metadata": {},
   "source": [
    "## 클래스_연습문제 6\n",
    "\n",
    "문제:  다음 프로그램을 실행했을때 아래내용이 출력되도록 클래스를 정의하라.\n",
    "\n",
    "학번(id) 앞4자리가 2018보다 작으면grade() 메소드에 의해 “3학년입니다“가 출력되고 아니면 ”3학년이아닙니다“가 출력된다.\n",
    "\n",
    "날짜: 2025.9.29\n",
    "\n",
    "학과: 컴퓨터공학과\n",
    "\n",
    "학번: 202210558\n",
    "\n",
    "저자: 박로사"
   ]
  },
  {
   "cell_type": "code",
   "execution_count": 1,
   "id": "7413eaa5",
   "metadata": {},
   "outputs": [
    {
     "name": "stdout",
     "output_type": "stream",
     "text": [
      "이름: 홍길동, 학번: 20150001, 학과: 로봇공학과\n",
      "3학년입니다\n"
     ]
    }
   ],
   "source": [
    "class Student:\n",
    "    def __init__(self, name, id, dept):\n",
    "        self.name = name\n",
    "        self.id = id\n",
    "        self.dept = dept\n",
    "\n",
    "    def grade(self):\n",
    "        year = int(str(self.id)[:4])\n",
    "        if year < 2018:\n",
    "            print(\"3학년입니다\")\n",
    "        else:\n",
    "            print(\"3학년이 아닙니다\")\n",
    "\n",
    "\n",
    "# 테스트\n",
    "man = Student(name=\"홍길동\", id=20150001, dept=\"로봇공학과\")\n",
    "print(\"이름: {}, 학번: {}, 학과: {}\".format(man.name, man.id, man.dept))\n",
    "man.grade()\n"
   ]
  }
 ],
 "metadata": {
  "kernelspec": {
   "display_name": "Python 3",
   "language": "python",
   "name": "python3"
  },
  "language_info": {
   "codemirror_mode": {
    "name": "ipython",
    "version": 3
   },
   "file_extension": ".py",
   "mimetype": "text/x-python",
   "name": "python",
   "nbconvert_exporter": "python",
   "pygments_lexer": "ipython3",
   "version": "3.13.7"
  }
 },
 "nbformat": 4,
 "nbformat_minor": 5
}
