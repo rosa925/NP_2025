{
 "cells": [
  {
   "cell_type": "markdown",
   "id": "05935bdd",
   "metadata": {},
   "source": [
    "## 클래스_연습문제 5\n",
    "\n",
    "문제: Articles 클래스를 작성하라. 이 클래스는각각제품의이름, 재고수량, 단가를나타내는 name, stock, price 인스턴스 변수를 가지고 있다. \n",
    "\n",
    "offer_price() 메소드는 구매 수량을 인수로전달받아총가격을반환한다. 구매수량이1~10개이하이면정상가격을반환하고, 11~50개이면5% 할인된가격을반환한다. 또51개이상이면10% 할인해준다. \n",
    "\n",
    "purchase() 메소드는 구매수량을 인수로 전달받아 재고수량을 구매수량만큼 감소한다.\n",
    "\n",
    "이 클래스를 이용하여 단가 1000원인 ”mask“를 10,000장으로 설정하고, 40장 구매가격과 구매 후 재고를 출력하라.\n",
    "\n",
    "날짜: 2025.9.29\n",
    "\n",
    "학과: 컴퓨터공학과\n",
    "\n",
    "학번: 202210558\n",
    "\n",
    "저자: 박로사"
   ]
  },
  {
   "cell_type": "code",
   "execution_count": 1,
   "id": "7413eaa5",
   "metadata": {},
   "outputs": [
    {
     "name": "stdout",
     "output_type": "stream",
     "text": [
      "mask 40개 구매 가격: 38000원\n",
      "구매 후 남은 재고: 9960개\n"
     ]
    }
   ],
   "source": [
    "class Articles:\n",
    "    def __init__(self, name, stock, price):\n",
    "        self.name = name\n",
    "        self.stock = stock\n",
    "        self.price = price\n",
    "\n",
    "    def offer_price(self, quantity):\n",
    "        \"\"\"구매 수량에 따라 할인 적용된 총 가격 반환\"\"\"\n",
    "        if quantity <= 10:\n",
    "            total = self.price * quantity\n",
    "        elif 11 <= quantity <= 50:\n",
    "            total = self.price * quantity * 0.95\n",
    "        else:\n",
    "            total = self.price * quantity * 0.90\n",
    "        return int(total)\n",
    "\n",
    "    def purchase(self, quantity):\n",
    "        \"\"\"구매 시 재고 감소\"\"\"\n",
    "        if quantity > self.stock:\n",
    "            print(\"⚠️ 재고가 부족합니다!\")\n",
    "            return False\n",
    "        self.stock -= quantity\n",
    "        return True\n",
    "\n",
    "\n",
    "# 테스트\n",
    "if __name__ == \"__main__\":\n",
    "    mask = Articles(\"mask\", 10000, 1000)\n",
    "\n",
    "    qty = 40\n",
    "    total_price = mask.offer_price(qty)\n",
    "    print(f\"{mask.name} {qty}개 구매 가격: {total_price}원\")\n",
    "\n",
    "    if mask.purchase(qty):\n",
    "        print(f\"구매 후 남은 재고: {mask.stock}개\")\n"
   ]
  }
 ],
 "metadata": {
  "kernelspec": {
   "display_name": "Python 3",
   "language": "python",
   "name": "python3"
  },
  "language_info": {
   "codemirror_mode": {
    "name": "ipython",
    "version": 3
   },
   "file_extension": ".py",
   "mimetype": "text/x-python",
   "name": "python",
   "nbconvert_exporter": "python",
   "pygments_lexer": "ipython3",
   "version": "3.13.7"
  }
 },
 "nbformat": 4,
 "nbformat_minor": 5
}
