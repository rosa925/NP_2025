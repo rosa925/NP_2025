{
 "cells": [
  {
   "cell_type": "markdown",
   "id": "57135e3c",
   "metadata": {},
   "source": [
    "## 6장 노트정리\n",
    "\n",
    "이 파일은 6장 학습하면서 실행한 내용을 정리한 것이다.\n",
    "\n",
    "날짜: 2025.9.23\n",
    "\n",
    "학과: 컴퓨터공학과\n",
    "\n",
    "학번: 202210558\n",
    "\n",
    "저자: 박로사"
   ]
  },
  {
   "cell_type": "markdown",
   "id": "6d81a4de",
   "metadata": {},
   "source": [
    "### 객체지향 프로그래밍\n",
    "❖객체지향 프로그램은 객체(object)의 속성(변수)과 동작(함수)을 나타내는 클래스를 정의하고, 이로부터 객체를 생성(인스턴스화; Instantiation)하여 작성한 프로그램\n",
    "\n",
    "❖클래스와 객체는 풀빵틀과 풀빵의 관계\n",
    "\n",
    "❖클래스의 동작을 나타내는 함수를 메소드(method)라 한다.\n",
    "\n",
    "❖클래스는 다른클래스로부터 상속받을 수 있다. 상속클래스는 부모클래스가 갖지않는 속성과 메소드를 가질 수 있다.\n",
    "\n",
    "❖객체는 클래스의 속성과 메소드를 갖는다.\n",
    "\n",
    "❖객체는 일반변수처럼 사용된다. 함수의 인자로 사용되고, 함수에서 객체를 반환할수도있다. 튜플이나딕셔너리의요소로사용될수있다."
   ]
  },
  {
   "cell_type": "markdown",
   "id": "64549cc5",
   "metadata": {},
   "source": [
    "### 클래스 정의와 객체 생성"
   ]
  },
  {
   "cell_type": "markdown",
   "id": "d538f291",
   "metadata": {},
   "source": [
    "#### 클래스 정의"
   ]
  },
  {
   "cell_type": "markdown",
   "id": "e6a090a2",
   "metadata": {},
   "source": [
    "class 클래스이름(부모클래스):  class 키워드로정의\n",
    "\n",
    "클래스몸체\n",
    "\n",
    "➊ 클래스는class 키워드로정의된다. 부모클래스는없으면생략\n",
    "\n",
    "➋클래스몸체는변수와 메소드로구성"
   ]
  },
  {
   "cell_type": "code",
   "execution_count": null,
   "id": "a1e0e903",
   "metadata": {},
   "outputs": [],
   "source": [
    ">>> dir(object)\n",
    "['__class__', '__delattr__', '__dir__', '__doc__', '__eq__', '__format__', '__ge__',\n",
    " '__getattribute__', '__getstate__', '__gt__', '__hash__', '__init__', '__init_subclass__',\n",
    " '__le__', '__lt__', '__ne__', '__new__', '__reduce__', '__reduce_ex__', '__repr__',\n",
    " '__setattr__', '__sizeof__', '__str__', '__subclasshook__']"
   ]
  },
  {
   "cell_type": "code",
   "execution_count": null,
   "id": "909d51fb",
   "metadata": {},
   "outputs": [],
   "source": [
    "mycar = Car('Black', 60) #Car class 객체 생성\n",
    "print('색상: ', mycar.color, '속도: ', mycar.speed) #속성 접근\n",
    "mycar.color = \"Red\" #속성 변경도 가능\n",
    "print('색상: ', mycar.color)\n",
    " mycar.speedup(10) #speedup() method 호출\n",
    "print('속도: ', mycar.speed)\n",
    " mycar.speeddown(20) #speeddown() method 호출\n",
    "print('속도: ', mycar.speed)"
   ]
  },
  {
   "cell_type": "code",
   "execution_count": null,
   "id": "bebfce35",
   "metadata": {},
   "outputs": [],
   "source": [
    " "
   ]
  }
 ],
 "metadata": {
  "kernelspec": {
   "display_name": "Python 3",
   "language": "python",
   "name": "python3"
  },
  "language_info": {
   "codemirror_mode": {
    "name": "ipython",
    "version": 3
   },
   "file_extension": ".py",
   "mimetype": "text/x-python",
   "name": "python",
   "nbconvert_exporter": "python",
   "pygments_lexer": "ipython3",
   "version": "3.13.7"
  }
 },
 "nbformat": 4,
 "nbformat_minor": 5
}
