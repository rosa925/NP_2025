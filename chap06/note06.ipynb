{
 "cells": [
  {
   "cell_type": "markdown",
   "id": "57135e3c",
   "metadata": {},
   "source": [
    "## 6장 노트정리\n",
    "\n",
    "이 파일은 6장 학습하면서 실행한 내용을 정리한 것이다.\n",
    "\n",
    "날짜: 2025.9.23\n",
    "\n",
    "학과: 컴퓨터공학과\n",
    "\n",
    "학번: 202210558\n",
    "\n",
    "저자: 박로사"
   ]
  },
  {
   "cell_type": "markdown",
   "id": "64549cc5",
   "metadata": {},
   "source": [
    "### 클래스 정의와 객체 생성"
   ]
  },
  {
   "cell_type": "markdown",
   "id": "d538f291",
   "metadata": {},
   "source": [
    "#### 클래스 정의"
   ]
  },
  {
   "cell_type": "code",
   "execution_count": null,
   "id": "a1e0e903",
   "metadata": {},
   "outputs": [],
   "source": [
    ">>> dir(object)\n",
    "['__class__', '__delattr__', '__dir__', '__doc__', '__eq__', '__format__', '__ge__',\n",
    " '__getattribute__', '__getstate__', '__gt__', '__hash__', '__init__', '__init_subclass__',\n",
    " '__le__', '__lt__', '__ne__', '__new__', '__reduce__', '__reduce_ex__', '__repr__',\n",
    " '__setattr__', '__sizeof__', '__str__', '__subclasshook__']"
   ]
  },
  {
   "cell_type": "code",
   "execution_count": null,
   "id": "909d51fb",
   "metadata": {},
   "outputs": [],
   "source": [
    "mycar = Car('Black', 60) #Car class 객체 생성\n",
    "print('색상: ', mycar.color, '속도: ', mycar.speed) #속성 접근\n",
    "mycar.color = \"Red\" #속성 변경도 가능\n",
    "print('색상: ', mycar.color)\n",
    " mycar.speedup(10) #speedup() method 호출\n",
    "print('속도: ', mycar.speed)\n",
    " mycar.speeddown(20) #speeddown() method 호출\n",
    "print('속도: ', mycar.speed)"
   ]
  }
 ],
 "metadata": {
  "kernelspec": {
   "display_name": "Python 3",
   "language": "python",
   "name": "python3"
  },
  "language_info": {
   "codemirror_mode": {
    "name": "ipython",
    "version": 3
   },
   "file_extension": ".py",
   "mimetype": "text/x-python",
   "name": "python",
   "nbconvert_exporter": "python",
   "pygments_lexer": "ipython3",
   "version": "3.13.7"
  }
 },
 "nbformat": 4,
 "nbformat_minor": 5
}
