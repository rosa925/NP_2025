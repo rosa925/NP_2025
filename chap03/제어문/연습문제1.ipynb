{
 "cells": [
  {
   "cell_type": "markdown",
   "id": "05935bdd",
   "metadata": {},
   "source": [
    "## 제어문_연습문제 1\n",
    "\n",
    "문제: 숫자맞추기게임프로그램\n",
    "\n",
    "1~100 사이의 난수를 만들고 사용자가 1~100 사이의 수를 입력하여 맞추는 프로그램. 5회까지 맞추지 못하면 종료\n",
    "\n",
    "날짜: 2025.9.17\n",
    "\n",
    "학과: 컴퓨터공학과\n",
    "\n",
    "학번: 202210558\n",
    "\n",
    "저자: 박로사"
   ]
  },
  {
   "cell_type": "code",
   "execution_count": 4,
   "id": "7413eaa5",
   "metadata": {},
   "outputs": [
    {
     "name": "stdout",
     "output_type": "stream",
     "text": [
      "더 작습니다. 4 회 남았습니다.\n",
      "\n",
      "더 큽니다. 3 회 남았습니다.\n",
      "\n",
      "더 큽니다. 2 회 남았습니다.\n",
      "\n",
      "더 작습니다. 1 회 남았습니다.\n",
      "\n",
      "더 큽니다. 0 회 남았습니다.\n",
      "\n",
      "당신이 졌습니다. 정답은  54 입니다\n"
     ]
    }
   ],
   "source": [
    "from random import randint\n",
    "secret_num = randint(1,100)\n",
    "num_guesses = 0 #시도 회수\n",
    "guess = 0 #예상숫자\n",
    "while guess != secret_num and num_guesses <= 4:\n",
    "    guess = eval(input('Enter your guess (1-100): ')) #수 입력\n",
    "    num_guesses = num_guesses + 1 #시도 횟수 증가\n",
    "    if guess < secret_num: #정답이 클 때\n",
    "        print('더 큽니다.', 5-num_guesses, '회 남았습니다.\\n')\n",
    "    elif guess > secret_num: #정답이 작을 때\n",
    "        print('더 작습니다.', 5-num_guesses, '회 남았습니다.\\n')\n",
    "    else: #정답\n",
    "        print('맞았습니다!')\n",
    "if num_guesses==5 and guess != secret_num: #맞추지 못한 경우\n",
    "    print('당신이 졌습니다. 정답은 ', secret_num, '입니다')"
   ]
  }
 ],
 "metadata": {
  "kernelspec": {
   "display_name": "Python 3",
   "language": "python",
   "name": "python3"
  },
  "language_info": {
   "codemirror_mode": {
    "name": "ipython",
    "version": 3
   },
   "file_extension": ".py",
   "mimetype": "text/x-python",
   "name": "python",
   "nbconvert_exporter": "python",
   "pygments_lexer": "ipython3",
   "version": "3.13.7"
  }
 },
 "nbformat": 4,
 "nbformat_minor": 5
}
