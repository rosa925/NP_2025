{
 "cells": [
  {
   "cell_type": "markdown",
   "id": "2e57701b",
   "metadata": {},
   "source": [
    "## 리스트_연습문제 1-1\n",
    "\n",
    "문제: 3명이상친구이름리스트를작성하고다음내용을프로그램하시오\n",
    "\n",
    "날짜: 2025.9.16\n",
    "\n",
    "학과: 컴퓨터공학과\n",
    "\n",
    "학번: 202210558\n",
    "\n",
    "저자: 박로사"
   ]
  },
  {
   "cell_type": "code",
   "execution_count": 1,
   "id": "eb4e0443",
   "metadata": {},
   "outputs": [
    {
     "name": "stdout",
     "output_type": "stream",
     "text": [
      "초기 친구 리스트: ['민수', '지영', '태훈']\n",
      "맨 앞에 친구 추가 후: ['현우', '민수', '지영', '태훈']\n",
      "3번째 위치에 친구 추가 후: ['현우', '민수', '수진', '지영', '태훈']\n",
      "마지막에 친구 추가 후: ['현우', '민수', '수진', '지영', '태훈', '아영']\n"
     ]
    }
   ],
   "source": [
    "# 3명 이상 친구 이름 리스트\n",
    "friends = [\"민수\", \"지영\", \"태훈\"]\n",
    "print(\"초기 친구 리스트:\", friends)\n",
    "\n",
    "# insert()로 맨 앞에 새로운 친구 추가\n",
    "friends.insert(0, \"현우\")\n",
    "print(\"맨 앞에 친구 추가 후:\", friends)\n",
    "\n",
    "# insert()로 3번째 위치에 새로운 친구 추가 (인덱스 2)\n",
    "friends.insert(2, \"수진\")\n",
    "print(\"3번째 위치에 친구 추가 후:\", friends)\n",
    "\n",
    "# append()로 마지막에 친구 추가\n",
    "friends.append(\"아영\")\n",
    "print(\"마지막에 친구 추가 후:\", friends)\n"
   ]
  }
 ],
 "metadata": {
  "kernelspec": {
   "display_name": "Python 3",
   "language": "python",
   "name": "python3"
  },
  "language_info": {
   "codemirror_mode": {
    "name": "ipython",
    "version": 3
   },
   "file_extension": ".py",
   "mimetype": "text/x-python",
   "name": "python",
   "nbconvert_exporter": "python",
   "pygments_lexer": "ipython3",
   "version": "3.13.7"
  }
 },
 "nbformat": 4,
 "nbformat_minor": 5
}
