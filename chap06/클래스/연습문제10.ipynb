{
 "cells": [
  {
   "cell_type": "markdown",
   "id": "05935bdd",
   "metadata": {},
   "source": [
    "## 클래스_연습문제 10\n",
    "\n",
    "문제: 동물(Animal)을 울음을추상메소드로하는추상클래스로정의하고,\n",
    "\n",
    "• 개(Dog)와 고양이(Cat)를 구체적인 클래스로 정의한 후,\n",
    "\n",
    "• 각 동물의울음소리를출력하는프로그램을작성하시오.\n",
    "\n",
    "• 각 동물객체는자신의이름을속성으로가지며,\n",
    "\n",
    "• 생성자에서이름을초기화합니다.\n",
    "\n",
    "• 추가적으로Animal 클래스는 현재 생성된동물객체의수를클래스변수로가지고,\n",
    "\n",
    "• 정적메소드로현재동물객체의수를반환하는메소드를구현\n",
    "\n",
    "• 객체가생성(__init__)될 때 객체의 수를 증가하고 삭제(__del__(self) ) 될 때 객체의 수를 감소\n",
    "\n",
    "테스트\n",
    "\n",
    "• 개나고양이객체들을리스트로생성하고개나Animal 변수로받아동적바인딩이되는지확인하시오.\n",
    "\n",
    "• 모든객체들이울게하는함수를작성하여테스트하시오. \n",
    "\n",
    "날짜: 2025.9.29\n",
    "\n",
    "학과: 컴퓨터공학과\n",
    "\n",
    "학번: 202210558\n",
    "\n",
    "저자: 박로사"
   ]
  },
  {
   "cell_type": "code",
   "execution_count": 1,
   "id": "7413eaa5",
   "metadata": {},
   "outputs": [
    {
     "name": "stdout",
     "output_type": "stream",
     "text": [
      "현재 동물 객체 수: 3\n",
      "바둑이: 멍멍!\n",
      "\n",
      "모든 동물 울기:\n",
      "바둑이: 멍멍!\n",
      "나비: 야옹~\n",
      "초코: 멍멍!\n",
      "\n",
      "하나 삭제 후 동물 객체 수: 2\n"
     ]
    }
   ],
   "source": [
    "from abc import ABC, abstractmethod\n",
    "\n",
    "class Animal(ABC):\n",
    "    _count = 0\n",
    "\n",
    "    def __init__(self, name):\n",
    "        self.name = name\n",
    "        Animal._count += 1\n",
    "\n",
    "    def __del__(self):\n",
    "        Animal._count -= 1\n",
    "\n",
    "    @staticmethod\n",
    "    def get_count():\n",
    "        return Animal._count\n",
    "\n",
    "    @abstractmethod\n",
    "    def sound(self):\n",
    "        pass\n",
    "\n",
    "class Dog(Animal):\n",
    "    def sound(self):\n",
    "        print(f\"{self.name}: 멍멍!\")\n",
    "\n",
    "class Cat(Animal):\n",
    "    def sound(self):\n",
    "        print(f\"{self.name}: 야옹~\")\n",
    "\n",
    "def make_all_sound(animals):\n",
    "    for a in animals:\n",
    "        a.sound()\n",
    "\n",
    "# 테스트\n",
    "if __name__ == \"__main__\":\n",
    "    animals = [Dog(\"바둑이\"), Cat(\"나비\"), Dog(\"초코\")]\n",
    "\n",
    "    print(f\"현재 동물 객체 수: {Animal.get_count()}\")\n",
    "\n",
    "    a: Animal = animals[0]\n",
    "    a.sound()\n",
    "\n",
    "    print(\"\\n모든 동물 울기:\")\n",
    "    make_all_sound(animals)\n",
    "\n",
    "    del animals[1]\n",
    "    print(f\"\\n하나 삭제 후 동물 객체 수: {Animal.get_count()}\")\n"
   ]
  }
 ],
 "metadata": {
  "kernelspec": {
   "display_name": "Python 3",
   "language": "python",
   "name": "python3"
  },
  "language_info": {
   "codemirror_mode": {
    "name": "ipython",
    "version": 3
   },
   "file_extension": ".py",
   "mimetype": "text/x-python",
   "name": "python",
   "nbconvert_exporter": "python",
   "pygments_lexer": "ipython3",
   "version": "3.13.7"
  }
 },
 "nbformat": 4,
 "nbformat_minor": 5
}
